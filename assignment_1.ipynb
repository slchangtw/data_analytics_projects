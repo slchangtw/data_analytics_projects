{
 "cells": [
  {
   "cell_type": "code",
   "execution_count": 1,
   "metadata": {
    "collapsed": true,
    "slideshow": {
     "slide_type": "skip"
    }
   },
   "outputs": [],
   "source": [
    "%matplotlib inline\n",
    "import pandas as pd\n",
    "import numpy as np\n",
    "from plotly import tools\n",
    "from plotly.offline import init_notebook_mode, plot, iplot\n",
    "import plotly.graph_objs as go\n",
    "import plotly.figure_factory as ff"
   ]
  },
  {
   "cell_type": "code",
   "execution_count": 2,
   "metadata": {
    "collapsed": true,
    "slideshow": {
     "slide_type": "skip"
    }
   },
   "outputs": [],
   "source": [
    "column_names = [\"age\", \"sex\", \"cp\", \"trestbps\", \"chol\", \"fbs\", \"restecg\", \n",
    "                \"thalach\", \"exang\", \"oldpeak\", \"slope\", \"ca\", \"thal\", \"num\"]\n",
    "\n",
    "cleveland = pd.read_csv(\"https://archive.ics.uci.edu/ml/machine-learning-databases/heart-disease/processed.cleveland.data\", names=column_names)\n",
    "cleveland['source'] = 'cleveland'\n",
    "\n",
    "hungarian = pd.read_csv(\"https://archive.ics.uci.edu/ml/machine-learning-databases/heart-disease/reprocessed.hungarian.data\", names=column_names, sep=' ')\n",
    "hungarian = hungarian[:-1]\n",
    "hungarian['source'] = 'hungarian'\n",
    "\n",
    "switzerland = pd.read_csv(\"https://archive.ics.uci.edu/ml/machine-learning-databases/heart-disease/processed.switzerland.data\", names=column_names)\n",
    "switzerland['source'] = 'switzerland'\n",
    "\n",
    "long_beach = pd.read_csv(\"https://archive.ics.uci.edu/ml/machine-learning-databases/heart-disease/processed.va.data\", names=column_names)\n",
    "long_beach['source'] = 'long_beach'"
   ]
  },
  {
   "cell_type": "code",
   "execution_count": 3,
   "metadata": {
    "collapsed": true
   },
   "outputs": [],
   "source": [
    "full_dat = pd.concat([cleveland, hungarian, switzerland, long_beach], ignore_index=True)\n",
    "full_dat = full_dat.replace('?', np.NaN)"
   ]
  },
  {
   "cell_type": "code",
   "execution_count": 9,
   "metadata": {},
   "outputs": [
    {
     "data": {
      "text/html": [
       "<div>\n",
       "<style>\n",
       "    .dataframe thead tr:only-child th {\n",
       "        text-align: right;\n",
       "    }\n",
       "\n",
       "    .dataframe thead th {\n",
       "        text-align: left;\n",
       "    }\n",
       "\n",
       "    .dataframe tbody tr th {\n",
       "        vertical-align: top;\n",
       "    }\n",
       "</style>\n",
       "<table border=\"1\" class=\"dataframe\">\n",
       "  <thead>\n",
       "    <tr style=\"text-align: right;\">\n",
       "      <th></th>\n",
       "      <th>age</th>\n",
       "      <th>sex</th>\n",
       "      <th>cp</th>\n",
       "      <th>trestbps</th>\n",
       "      <th>chol</th>\n",
       "      <th>fbs</th>\n",
       "      <th>restecg</th>\n",
       "      <th>thalach</th>\n",
       "      <th>exang</th>\n",
       "      <th>oldpeak</th>\n",
       "      <th>slope</th>\n",
       "      <th>ca</th>\n",
       "      <th>thal</th>\n",
       "      <th>num</th>\n",
       "      <th>source</th>\n",
       "    </tr>\n",
       "  </thead>\n",
       "  <tbody>\n",
       "    <tr>\n",
       "      <th>915</th>\n",
       "      <td>54.0</td>\n",
       "      <td>0.0</td>\n",
       "      <td>4.0</td>\n",
       "      <td>127.0</td>\n",
       "      <td>333.0</td>\n",
       "      <td>1.0</td>\n",
       "      <td>1.0</td>\n",
       "      <td>154.0</td>\n",
       "      <td>0.0</td>\n",
       "      <td>0.0</td>\n",
       "      <td>NaN</td>\n",
       "      <td>NaN</td>\n",
       "      <td>NaN</td>\n",
       "      <td>1.0</td>\n",
       "      <td>long_beach</td>\n",
       "    </tr>\n",
       "    <tr>\n",
       "      <th>916</th>\n",
       "      <td>62.0</td>\n",
       "      <td>1.0</td>\n",
       "      <td>1.0</td>\n",
       "      <td>NaN</td>\n",
       "      <td>139.0</td>\n",
       "      <td>0.0</td>\n",
       "      <td>1.0</td>\n",
       "      <td>NaN</td>\n",
       "      <td>NaN</td>\n",
       "      <td>NaN</td>\n",
       "      <td>NaN</td>\n",
       "      <td>NaN</td>\n",
       "      <td>NaN</td>\n",
       "      <td>0.0</td>\n",
       "      <td>long_beach</td>\n",
       "    </tr>\n",
       "    <tr>\n",
       "      <th>917</th>\n",
       "      <td>55.0</td>\n",
       "      <td>1.0</td>\n",
       "      <td>4.0</td>\n",
       "      <td>122.0</td>\n",
       "      <td>223.0</td>\n",
       "      <td>1.0</td>\n",
       "      <td>1.0</td>\n",
       "      <td>100.0</td>\n",
       "      <td>0.0</td>\n",
       "      <td>0.0</td>\n",
       "      <td>NaN</td>\n",
       "      <td>NaN</td>\n",
       "      <td>6.0</td>\n",
       "      <td>2.0</td>\n",
       "      <td>long_beach</td>\n",
       "    </tr>\n",
       "    <tr>\n",
       "      <th>918</th>\n",
       "      <td>58.0</td>\n",
       "      <td>1.0</td>\n",
       "      <td>4.0</td>\n",
       "      <td>NaN</td>\n",
       "      <td>385.0</td>\n",
       "      <td>1.0</td>\n",
       "      <td>2.0</td>\n",
       "      <td>NaN</td>\n",
       "      <td>NaN</td>\n",
       "      <td>NaN</td>\n",
       "      <td>NaN</td>\n",
       "      <td>NaN</td>\n",
       "      <td>NaN</td>\n",
       "      <td>0.0</td>\n",
       "      <td>long_beach</td>\n",
       "    </tr>\n",
       "    <tr>\n",
       "      <th>919</th>\n",
       "      <td>62.0</td>\n",
       "      <td>1.0</td>\n",
       "      <td>2.0</td>\n",
       "      <td>120.0</td>\n",
       "      <td>254.0</td>\n",
       "      <td>0.0</td>\n",
       "      <td>2.0</td>\n",
       "      <td>93.0</td>\n",
       "      <td>1.0</td>\n",
       "      <td>0.0</td>\n",
       "      <td>NaN</td>\n",
       "      <td>NaN</td>\n",
       "      <td>NaN</td>\n",
       "      <td>1.0</td>\n",
       "      <td>long_beach</td>\n",
       "    </tr>\n",
       "  </tbody>\n",
       "</table>\n",
       "</div>"
      ],
      "text/plain": [
       "      age  sex   cp  trestbps   chol  fbs  restecg  thalach  exang  oldpeak  \\\n",
       "915  54.0  0.0  4.0     127.0  333.0  1.0      1.0    154.0    0.0      0.0   \n",
       "916  62.0  1.0  1.0       NaN  139.0  0.0      1.0      NaN    NaN      NaN   \n",
       "917  55.0  1.0  4.0     122.0  223.0  1.0      1.0    100.0    0.0      0.0   \n",
       "918  58.0  1.0  4.0       NaN  385.0  1.0      2.0      NaN    NaN      NaN   \n",
       "919  62.0  1.0  2.0     120.0  254.0  0.0      2.0     93.0    1.0      0.0   \n",
       "\n",
       "     slope  ca  thal  num      source  \n",
       "915    NaN NaN   NaN  1.0  long_beach  \n",
       "916    NaN NaN   NaN  0.0  long_beach  \n",
       "917    NaN NaN   6.0  2.0  long_beach  \n",
       "918    NaN NaN   NaN  0.0  long_beach  \n",
       "919    NaN NaN   NaN  1.0  long_beach  "
      ]
     },
     "execution_count": 9,
     "metadata": {},
     "output_type": "execute_result"
    }
   ],
   "source": [
    "full_dat.tail(5)"
   ]
  },
  {
   "cell_type": "markdown",
   "metadata": {
    "slideshow": {
     "slide_type": "slide"
    }
   },
   "source": [
    "# Attributes"
   ]
  },
  {
   "cell_type": "markdown",
   "metadata": {
    "slideshow": {
     "slide_type": "-"
    }
   },
   "source": [
    "| Attribute | Description                                                                                                                                                                                                                                   | Type                   |\n",
    "|:---------:|-----------------------------------------------------------------------------------------------------------------------------------------------------------------------------------------------------------------------------------------------|------------------------|\n",
    "|    age    | Age in years                                                                                                                                                                                                                                  | Numerical (Discrete)   |\n",
    "|    sex    | 1: male<br> 0: female                                                                                                                                                                                                                         | Category               |\n",
    "|     cp    | Chest pain type<br> 1: typical angina<br> 2: atypical angina<br> 3: non-anginal pain<br> 4: asymptomatic                                                                                                                                      | Category               |\n",
    "|  trestbps | Resting blood pressure (in mm Hg on admission to the hospital)                                                                                                                                                                                | Numerical (Continuous) |\n",
    "|    chol   | Serum cholestoral in mg/dl                                                                                                                                                                                                                    | Numerical (Continuous) |\n",
    "|    fbs    | Fasting blood sugar > 120 mg/d<br> 1: true<br> 0: false                                                                                                                                                                                       | Category               |\n",
    "|  restecg  | Resting electrocardiographic results<br> 0: normal<br> 1: having ST-T wave abnormality (T wave inversions and/or ST elevation or depression of > 0.05 mV)<br> 2: showing probable or definite left ventricular hypertrophy by Estes' criteria | Category               |\n",
    "|  thalach  | Maximum heart rate achieved                                                                                                                                                                                                                   | Numerical (Continuous) |\n",
    "|   exang   | Exercise induced angina<br> 1: yes<br> 0: no                                                                                                                                                                                                  | Category               |\n",
    "|  oldpeak  | ST depression induced by exercise relative to rest                                                                                                                                                                                            | Numerical (Continuous) |\n",
    "|   slope   | The slope of the peak exercise ST segment<br> 1: upsloping<br> 2: flat<br> 3: downsloping<br>                                                                                                                                                 | Category               |\n",
    "|     ca    | Number of major vessels (0-3) colored by flourosopy                                                                                                                                                                                           | Numerical (Discrete)   |\n",
    "|    thal   | 3: normal<br> 6: fixed defect<br> 7: reversable defect                                                                                                                                                                                        | Category               |\n",
    "|    num    | Diagnosis of heart disease (angiographic disease status)                                                                                                                                                                                      | Category               |\n",
    "|    source    | Source of the data set                                                                                                                                                                                      | Category               |"
   ]
  },
  {
   "cell_type": "code",
   "execution_count": 25,
   "metadata": {
    "slideshow": {
     "slide_type": "skip"
    }
   },
   "outputs": [
    {
     "data": {
      "text/html": [
       "<script>requirejs.config({paths: { 'plotly': ['https://cdn.plot.ly/plotly-latest.min']},});if(!window.Plotly) {{require(['plotly'],function(plotly) {window.Plotly=plotly;});}}</script>"
      ],
      "text/vnd.plotly.v1+html": [
       "<script>requirejs.config({paths: { 'plotly': ['https://cdn.plot.ly/plotly-latest.min']},});if(!window.Plotly) {{require(['plotly'],function(plotly) {window.Plotly=plotly;});}}</script>"
      ]
     },
     "metadata": {},
     "output_type": "display_data"
    }
   ],
   "source": [
    "init_notebook_mode(connected=True)"
   ]
  },
  {
   "cell_type": "markdown",
   "metadata": {
    "slideshow": {
     "slide_type": "slide"
    }
   },
   "source": [
    "# TBD"
   ]
  },
  {
   "cell_type": "code",
   "execution_count": 26,
   "metadata": {},
   "outputs": [
    {
     "data": {
      "text/plain": [
       "cleveland      303\n",
       "hungarian      294\n",
       "long_beach     200\n",
       "switzerland    123\n",
       "Name: source, dtype: int64"
      ]
     },
     "execution_count": 26,
     "metadata": {},
     "output_type": "execute_result"
    }
   ],
   "source": [
    "source_counts = pd.value_counts(full_dat['source'])\n",
    "source_counts"
   ]
  },
  {
   "cell_type": "code",
   "execution_count": 27,
   "metadata": {
    "scrolled": true
   },
   "outputs": [
    {
     "data": {
      "application/vnd.plotly.v1+json": {
       "data": [
        {
         "type": "bar",
         "x": [
          "cleveland",
          "hungarian",
          "long_beach",
          "switzerland"
         ],
         "y": [
          303,
          294,
          200,
          123
         ]
        }
       ],
       "layout": {
        "title": "Sample Numbers of Each Source"
       }
      },
      "text/html": [
       "<div id=\"2b2f6f42-a4ff-4116-8cab-729e8da6c2f9\" style=\"height: 525px; width: 100%;\" class=\"plotly-graph-div\"></div><script type=\"text/javascript\">require([\"plotly\"], function(Plotly) { window.PLOTLYENV=window.PLOTLYENV || {};window.PLOTLYENV.BASE_URL=\"https://plot.ly\";Plotly.newPlot(\"2b2f6f42-a4ff-4116-8cab-729e8da6c2f9\", [{\"type\": \"bar\", \"x\": [\"cleveland\", \"hungarian\", \"long_beach\", \"switzerland\"], \"y\": [303, 294, 200, 123]}], {\"title\": \"Sample Numbers of Each Source\"}, {\"showLink\": true, \"linkText\": \"Export to plot.ly\"})});</script>"
      ],
      "text/vnd.plotly.v1+html": [
       "<div id=\"2b2f6f42-a4ff-4116-8cab-729e8da6c2f9\" style=\"height: 525px; width: 100%;\" class=\"plotly-graph-div\"></div><script type=\"text/javascript\">require([\"plotly\"], function(Plotly) { window.PLOTLYENV=window.PLOTLYENV || {};window.PLOTLYENV.BASE_URL=\"https://plot.ly\";Plotly.newPlot(\"2b2f6f42-a4ff-4116-8cab-729e8da6c2f9\", [{\"type\": \"bar\", \"x\": [\"cleveland\", \"hungarian\", \"long_beach\", \"switzerland\"], \"y\": [303, 294, 200, 123]}], {\"title\": \"Sample Numbers of Each Source\"}, {\"showLink\": true, \"linkText\": \"Export to plot.ly\"})});</script>"
      ]
     },
     "metadata": {},
     "output_type": "display_data"
    }
   ],
   "source": [
    "trace = go.Bar(\n",
    "    x = source_counts.index.values,\n",
    "    y = source_counts.values\n",
    ")\n",
    "\n",
    "data = [trace]\n",
    "\n",
    "layout = go.Layout(\n",
    "    title= 'Sample Numbers of Each Source',\n",
    ")\n",
    "\n",
    "fig = go.Figure(data=data, layout=layout)\n",
    "iplot(fig)"
   ]
  },
  {
   "cell_type": "code",
   "execution_count": 28,
   "metadata": {
    "collapsed": true
   },
   "outputs": [],
   "source": [
    "full_dat['diseased'] = full_dat['num'].map({0: 'Not diseased', 1: 'Diseased', 2: 'Diseased', 3: 'Diseased'})\n",
    "diseased_counts = pd.value_counts(full_dat['diseased']).to_frame()\n",
    "diseased_counts.columns = ['Numbers']"
   ]
  },
  {
   "cell_type": "code",
   "execution_count": 114,
   "metadata": {},
   "outputs": [],
   "source": [
    "figure = ff.create_table(diseased_counts, index=True, height_constant=60)\n",
    "\n",
    "trace = go.Bar(\n",
    "    x = diseased_counts.index.values,\n",
    "    y = diseased_counts['Numbers'].values,\n",
    "    marker = dict(color='rgb(158,202,225)'),\n",
    "    xaxis='x2', yaxis='y2'\n",
    ")\n",
    "\n",
    "figure['data'].extend(go.Data([trace]))\n",
    "\n",
    "figure.layout.yaxis.update({'domain': [0, .2]})\n",
    "figure.layout.yaxis2.update({'domain': [.3, 1]})\n",
    "figure.layout.xaxis2.update({'anchor': 'y2'})\n",
    "\n",
    "# Update the margins to add a title and see graph x-labels. \n",
    "figure.layout.margin.update({'t':30, 'l':40})\n",
    "figure.layout.update({'title': 'TBD'})\n",
    "\n",
    "figure.layout.update({'height':500})"
   ]
  },
  {
   "cell_type": "code",
   "execution_count": 115,
   "metadata": {},
   "outputs": [
    {
     "data": {
      "application/vnd.plotly.v1+json": {
       "data": [
        {
         "colorscale": [
          [
           0,
           "#00083e"
          ],
          [
           0.5,
           "#ededee"
          ],
          [
           1,
           "#ffffff"
          ]
         ],
         "hoverinfo": "none",
         "opacity": 0.75,
         "showscale": false,
         "type": "heatmap",
         "z": [
          [
           0,
           0
          ],
          [
           0,
           0.5
          ],
          [
           0,
           1
          ]
         ]
        },
        {
         "marker": {
          "color": "rgb(158,202,225)"
         },
         "type": "bar",
         "x": [
          "Diseased",
          "Not diseased"
         ],
         "xaxis": "x2",
         "y": [
          466,
          411
         ],
         "yaxis": "y2"
        }
       ],
       "layout": {
        "annotations": [
         {
          "align": "left",
          "font": {
           "color": "#ffffff"
          },
          "showarrow": false,
          "text": "<b></b>",
          "x": -0.45,
          "xanchor": "left",
          "xref": "x1",
          "y": 0,
          "yref": "y1"
         },
         {
          "align": "left",
          "font": {
           "color": "#ffffff"
          },
          "showarrow": false,
          "text": "<b>Numbers</b>",
          "x": 0.55,
          "xanchor": "left",
          "xref": "x1",
          "y": 0,
          "yref": "y1"
         },
         {
          "align": "left",
          "font": {
           "color": "#ffffff"
          },
          "showarrow": false,
          "text": "<b>Diseased</b>",
          "x": -0.45,
          "xanchor": "left",
          "xref": "x1",
          "y": 1,
          "yref": "y1"
         },
         {
          "align": "left",
          "font": {
           "color": "#000000"
          },
          "showarrow": false,
          "text": "466",
          "x": 0.55,
          "xanchor": "left",
          "xref": "x1",
          "y": 1,
          "yref": "y1"
         },
         {
          "align": "left",
          "font": {
           "color": "#ffffff"
          },
          "showarrow": false,
          "text": "<b>Not diseased</b>",
          "x": -0.45,
          "xanchor": "left",
          "xref": "x1",
          "y": 2,
          "yref": "y1"
         },
         {
          "align": "left",
          "font": {
           "color": "#000000"
          },
          "showarrow": false,
          "text": "411",
          "x": 0.55,
          "xanchor": "left",
          "xref": "x1",
          "y": 2,
          "yref": "y1"
         }
        ],
        "height": 500,
        "margin": {
         "b": 0,
         "l": 40,
         "r": 0,
         "t": 30
        },
        "title": "TBD",
        "xaxis": {
         "dtick": 1,
         "gridwidth": 2,
         "showticklabels": false,
         "tick0": -0.5,
         "ticks": "",
         "zeroline": false
        },
        "xaxis2": {
         "anchor": "y2"
        },
        "yaxis": {
         "autorange": "reversed",
         "domain": [
          0,
          0.2
         ],
         "dtick": 1,
         "gridwidth": 2,
         "showticklabels": false,
         "tick0": 0.5,
         "ticks": "",
         "zeroline": false
        },
        "yaxis2": {
         "domain": [
          0.3,
          1
         ]
        }
       }
      },
      "text/html": [
       "<div id=\"176fd32b-db7d-43ff-bb6d-2a25164e4e4f\" style=\"height: 500px; width: 100%;\" class=\"plotly-graph-div\"></div><script type=\"text/javascript\">require([\"plotly\"], function(Plotly) { window.PLOTLYENV=window.PLOTLYENV || {};window.PLOTLYENV.BASE_URL=\"https://plot.ly\";Plotly.newPlot(\"176fd32b-db7d-43ff-bb6d-2a25164e4e4f\", [{\"type\": \"heatmap\", \"z\": [[0, 0], [0, 0.5], [0, 1]], \"opacity\": 0.75, \"colorscale\": [[0, \"#00083e\"], [0.5, \"#ededee\"], [1, \"#ffffff\"]], \"showscale\": false, \"hoverinfo\": \"none\"}, {\"type\": \"bar\", \"x\": [\"Diseased\", \"Not diseased\"], \"y\": [466, 411], \"marker\": {\"color\": \"rgb(158,202,225)\"}, \"xaxis\": \"x2\", \"yaxis\": \"y2\"}], {\"annotations\": [{\"text\": \"<b></b>\", \"x\": -0.45, \"y\": 0, \"xref\": \"x1\", \"yref\": \"y1\", \"align\": \"left\", \"xanchor\": \"left\", \"font\": {\"color\": \"#ffffff\"}, \"showarrow\": false}, {\"text\": \"<b>Numbers</b>\", \"x\": 0.55, \"y\": 0, \"xref\": \"x1\", \"yref\": \"y1\", \"align\": \"left\", \"xanchor\": \"left\", \"font\": {\"color\": \"#ffffff\"}, \"showarrow\": false}, {\"text\": \"<b>Diseased</b>\", \"x\": -0.45, \"y\": 1, \"xref\": \"x1\", \"yref\": \"y1\", \"align\": \"left\", \"xanchor\": \"left\", \"font\": {\"color\": \"#ffffff\"}, \"showarrow\": false}, {\"text\": \"466\", \"x\": 0.55, \"y\": 1, \"xref\": \"x1\", \"yref\": \"y1\", \"align\": \"left\", \"xanchor\": \"left\", \"font\": {\"color\": \"#000000\"}, \"showarrow\": false}, {\"text\": \"<b>Not diseased</b>\", \"x\": -0.45, \"y\": 2, \"xref\": \"x1\", \"yref\": \"y1\", \"align\": \"left\", \"xanchor\": \"left\", \"font\": {\"color\": \"#ffffff\"}, \"showarrow\": false}, {\"text\": \"411\", \"x\": 0.55, \"y\": 2, \"xref\": \"x1\", \"yref\": \"y1\", \"align\": \"left\", \"xanchor\": \"left\", \"font\": {\"color\": \"#000000\"}, \"showarrow\": false}], \"height\": 500, \"margin\": {\"t\": 30, \"b\": 0, \"r\": 0, \"l\": 40}, \"yaxis\": {\"autorange\": \"reversed\", \"zeroline\": false, \"gridwidth\": 2, \"ticks\": \"\", \"dtick\": 1, \"tick0\": 0.5, \"showticklabels\": false, \"domain\": [0, 0.2]}, \"xaxis\": {\"zeroline\": false, \"gridwidth\": 2, \"ticks\": \"\", \"dtick\": 1, \"tick0\": -0.5, \"showticklabels\": false}, \"yaxis2\": {\"domain\": [0.3, 1]}, \"xaxis2\": {\"anchor\": \"y2\"}, \"title\": \"TBD\"}, {\"showLink\": true, \"linkText\": \"Export to plot.ly\"})});</script>"
      ],
      "text/vnd.plotly.v1+html": [
       "<div id=\"176fd32b-db7d-43ff-bb6d-2a25164e4e4f\" style=\"height: 500px; width: 100%;\" class=\"plotly-graph-div\"></div><script type=\"text/javascript\">require([\"plotly\"], function(Plotly) { window.PLOTLYENV=window.PLOTLYENV || {};window.PLOTLYENV.BASE_URL=\"https://plot.ly\";Plotly.newPlot(\"176fd32b-db7d-43ff-bb6d-2a25164e4e4f\", [{\"type\": \"heatmap\", \"z\": [[0, 0], [0, 0.5], [0, 1]], \"opacity\": 0.75, \"colorscale\": [[0, \"#00083e\"], [0.5, \"#ededee\"], [1, \"#ffffff\"]], \"showscale\": false, \"hoverinfo\": \"none\"}, {\"type\": \"bar\", \"x\": [\"Diseased\", \"Not diseased\"], \"y\": [466, 411], \"marker\": {\"color\": \"rgb(158,202,225)\"}, \"xaxis\": \"x2\", \"yaxis\": \"y2\"}], {\"annotations\": [{\"text\": \"<b></b>\", \"x\": -0.45, \"y\": 0, \"xref\": \"x1\", \"yref\": \"y1\", \"align\": \"left\", \"xanchor\": \"left\", \"font\": {\"color\": \"#ffffff\"}, \"showarrow\": false}, {\"text\": \"<b>Numbers</b>\", \"x\": 0.55, \"y\": 0, \"xref\": \"x1\", \"yref\": \"y1\", \"align\": \"left\", \"xanchor\": \"left\", \"font\": {\"color\": \"#ffffff\"}, \"showarrow\": false}, {\"text\": \"<b>Diseased</b>\", \"x\": -0.45, \"y\": 1, \"xref\": \"x1\", \"yref\": \"y1\", \"align\": \"left\", \"xanchor\": \"left\", \"font\": {\"color\": \"#ffffff\"}, \"showarrow\": false}, {\"text\": \"466\", \"x\": 0.55, \"y\": 1, \"xref\": \"x1\", \"yref\": \"y1\", \"align\": \"left\", \"xanchor\": \"left\", \"font\": {\"color\": \"#000000\"}, \"showarrow\": false}, {\"text\": \"<b>Not diseased</b>\", \"x\": -0.45, \"y\": 2, \"xref\": \"x1\", \"yref\": \"y1\", \"align\": \"left\", \"xanchor\": \"left\", \"font\": {\"color\": \"#ffffff\"}, \"showarrow\": false}, {\"text\": \"411\", \"x\": 0.55, \"y\": 2, \"xref\": \"x1\", \"yref\": \"y1\", \"align\": \"left\", \"xanchor\": \"left\", \"font\": {\"color\": \"#000000\"}, \"showarrow\": false}], \"height\": 500, \"margin\": {\"t\": 30, \"b\": 0, \"r\": 0, \"l\": 40}, \"yaxis\": {\"autorange\": \"reversed\", \"zeroline\": false, \"gridwidth\": 2, \"ticks\": \"\", \"dtick\": 1, \"tick0\": 0.5, \"showticklabels\": false, \"domain\": [0, 0.2]}, \"xaxis\": {\"zeroline\": false, \"gridwidth\": 2, \"ticks\": \"\", \"dtick\": 1, \"tick0\": -0.5, \"showticklabels\": false}, \"yaxis2\": {\"domain\": [0.3, 1]}, \"xaxis2\": {\"anchor\": \"y2\"}, \"title\": \"TBD\"}, {\"showLink\": true, \"linkText\": \"Export to plot.ly\"})});</script>"
      ]
     },
     "metadata": {},
     "output_type": "display_data"
    }
   ],
   "source": [
    "iplot(figure)"
   ]
  },
  {
   "cell_type": "code",
   "execution_count": 119,
   "metadata": {
    "collapsed": true
   },
   "outputs": [],
   "source": [
    "diseased = full_dat[full_dat['diseased'] == 'Diseased'][['num', 'diseased']]\n",
    "diseased['type'] = diseased['num'].map({1: 'Type1', 2: 'Type2', 3: 'Type3'})\n",
    "diseased_type_counts = pd.value_counts(diseased['type']).to_frame()\n",
    "diseased_type_counts.columns = ['Numbers']\n",
    "diseased_type_counts = diseased_type_counts.sort_index()"
   ]
  },
  {
   "cell_type": "code",
   "execution_count": 120,
   "metadata": {},
   "outputs": [],
   "source": [
    "figure = ff.create_table(diseased_type_counts, index=True)\n",
    "\n",
    "trace = go.Bar(\n",
    "    x = diseased_type_counts.index.values,\n",
    "    y = diseased_type_counts['Numbers'].values,\n",
    "    marker = dict(color='rgb(158,202,225)'),\n",
    "    xaxis='x2', yaxis='y2'\n",
    ")\n",
    "\n",
    "figure['data'].extend(go.Data([trace]))\n",
    "\n",
    "figure.layout.yaxis.update({'domain': [0, .2]})\n",
    "figure.layout.yaxis2.update({'domain': [.3, 1]})\n",
    "figure.layout.xaxis2.update({'anchor': 'y2'})\n",
    "\n",
    "# Update the margins to add a title and see graph x-labels. \n",
    "figure.layout.margin.update({'t':30, 'l':40})\n",
    "figure.layout.update({'title': 'TBD'})\n",
    "\n",
    "figure.layout.update({'height':500})"
   ]
  },
  {
   "cell_type": "code",
   "execution_count": 121,
   "metadata": {},
   "outputs": [
    {
     "data": {
      "application/vnd.plotly.v1+json": {
       "data": [
        {
         "colorscale": [
          [
           0,
           "#00083e"
          ],
          [
           0.5,
           "#ededee"
          ],
          [
           1,
           "#ffffff"
          ]
         ],
         "hoverinfo": "none",
         "opacity": 0.75,
         "showscale": false,
         "type": "heatmap",
         "z": [
          [
           0,
           0
          ],
          [
           0,
           0.5
          ],
          [
           0,
           1
          ],
          [
           0,
           0.5
          ]
         ]
        },
        {
         "marker": {
          "color": "rgb(158,202,225)"
         },
         "type": "bar",
         "x": [
          "Type1",
          "Type2",
          "Type3"
         ],
         "xaxis": "x2",
         "y": [
          196,
          135,
          135
         ],
         "yaxis": "y2"
        }
       ],
       "layout": {
        "annotations": [
         {
          "align": "left",
          "font": {
           "color": "#ffffff"
          },
          "showarrow": false,
          "text": "<b></b>",
          "x": -0.45,
          "xanchor": "left",
          "xref": "x1",
          "y": 0,
          "yref": "y1"
         },
         {
          "align": "left",
          "font": {
           "color": "#ffffff"
          },
          "showarrow": false,
          "text": "<b>Numbers</b>",
          "x": 0.55,
          "xanchor": "left",
          "xref": "x1",
          "y": 0,
          "yref": "y1"
         },
         {
          "align": "left",
          "font": {
           "color": "#ffffff"
          },
          "showarrow": false,
          "text": "<b>Type1</b>",
          "x": -0.45,
          "xanchor": "left",
          "xref": "x1",
          "y": 1,
          "yref": "y1"
         },
         {
          "align": "left",
          "font": {
           "color": "#000000"
          },
          "showarrow": false,
          "text": "196",
          "x": 0.55,
          "xanchor": "left",
          "xref": "x1",
          "y": 1,
          "yref": "y1"
         },
         {
          "align": "left",
          "font": {
           "color": "#ffffff"
          },
          "showarrow": false,
          "text": "<b>Type2</b>",
          "x": -0.45,
          "xanchor": "left",
          "xref": "x1",
          "y": 2,
          "yref": "y1"
         },
         {
          "align": "left",
          "font": {
           "color": "#000000"
          },
          "showarrow": false,
          "text": "135",
          "x": 0.55,
          "xanchor": "left",
          "xref": "x1",
          "y": 2,
          "yref": "y1"
         },
         {
          "align": "left",
          "font": {
           "color": "#ffffff"
          },
          "showarrow": false,
          "text": "<b>Type3</b>",
          "x": -0.45,
          "xanchor": "left",
          "xref": "x1",
          "y": 3,
          "yref": "y1"
         },
         {
          "align": "left",
          "font": {
           "color": "#000000"
          },
          "showarrow": false,
          "text": "135",
          "x": 0.55,
          "xanchor": "left",
          "xref": "x1",
          "y": 3,
          "yref": "y1"
         }
        ],
        "height": 500,
        "margin": {
         "b": 0,
         "l": 40,
         "r": 0,
         "t": 30
        },
        "title": "TBD",
        "xaxis": {
         "dtick": 1,
         "gridwidth": 2,
         "showticklabels": false,
         "tick0": -0.5,
         "ticks": "",
         "zeroline": false
        },
        "xaxis2": {
         "anchor": "y2"
        },
        "yaxis": {
         "autorange": "reversed",
         "domain": [
          0,
          0.2
         ],
         "dtick": 1,
         "gridwidth": 2,
         "showticklabels": false,
         "tick0": 0.5,
         "ticks": "",
         "zeroline": false
        },
        "yaxis2": {
         "domain": [
          0.3,
          1
         ]
        }
       }
      },
      "text/html": [
       "<div id=\"b33d5c76-1b6e-440d-a08b-838231237338\" style=\"height: 500px; width: 100%;\" class=\"plotly-graph-div\"></div><script type=\"text/javascript\">require([\"plotly\"], function(Plotly) { window.PLOTLYENV=window.PLOTLYENV || {};window.PLOTLYENV.BASE_URL=\"https://plot.ly\";Plotly.newPlot(\"b33d5c76-1b6e-440d-a08b-838231237338\", [{\"type\": \"heatmap\", \"z\": [[0, 0], [0, 0.5], [0, 1], [0, 0.5]], \"opacity\": 0.75, \"colorscale\": [[0, \"#00083e\"], [0.5, \"#ededee\"], [1, \"#ffffff\"]], \"showscale\": false, \"hoverinfo\": \"none\"}, {\"type\": \"bar\", \"x\": [\"Type1\", \"Type2\", \"Type3\"], \"y\": [196, 135, 135], \"marker\": {\"color\": \"rgb(158,202,225)\"}, \"xaxis\": \"x2\", \"yaxis\": \"y2\"}], {\"annotations\": [{\"text\": \"<b></b>\", \"x\": -0.45, \"y\": 0, \"xref\": \"x1\", \"yref\": \"y1\", \"align\": \"left\", \"xanchor\": \"left\", \"font\": {\"color\": \"#ffffff\"}, \"showarrow\": false}, {\"text\": \"<b>Numbers</b>\", \"x\": 0.55, \"y\": 0, \"xref\": \"x1\", \"yref\": \"y1\", \"align\": \"left\", \"xanchor\": \"left\", \"font\": {\"color\": \"#ffffff\"}, \"showarrow\": false}, {\"text\": \"<b>Type1</b>\", \"x\": -0.45, \"y\": 1, \"xref\": \"x1\", \"yref\": \"y1\", \"align\": \"left\", \"xanchor\": \"left\", \"font\": {\"color\": \"#ffffff\"}, \"showarrow\": false}, {\"text\": \"196\", \"x\": 0.55, \"y\": 1, \"xref\": \"x1\", \"yref\": \"y1\", \"align\": \"left\", \"xanchor\": \"left\", \"font\": {\"color\": \"#000000\"}, \"showarrow\": false}, {\"text\": \"<b>Type2</b>\", \"x\": -0.45, \"y\": 2, \"xref\": \"x1\", \"yref\": \"y1\", \"align\": \"left\", \"xanchor\": \"left\", \"font\": {\"color\": \"#ffffff\"}, \"showarrow\": false}, {\"text\": \"135\", \"x\": 0.55, \"y\": 2, \"xref\": \"x1\", \"yref\": \"y1\", \"align\": \"left\", \"xanchor\": \"left\", \"font\": {\"color\": \"#000000\"}, \"showarrow\": false}, {\"text\": \"<b>Type3</b>\", \"x\": -0.45, \"y\": 3, \"xref\": \"x1\", \"yref\": \"y1\", \"align\": \"left\", \"xanchor\": \"left\", \"font\": {\"color\": \"#ffffff\"}, \"showarrow\": false}, {\"text\": \"135\", \"x\": 0.55, \"y\": 3, \"xref\": \"x1\", \"yref\": \"y1\", \"align\": \"left\", \"xanchor\": \"left\", \"font\": {\"color\": \"#000000\"}, \"showarrow\": false}], \"height\": 500, \"margin\": {\"t\": 30, \"b\": 0, \"r\": 0, \"l\": 40}, \"yaxis\": {\"autorange\": \"reversed\", \"zeroline\": false, \"gridwidth\": 2, \"ticks\": \"\", \"dtick\": 1, \"tick0\": 0.5, \"showticklabels\": false, \"domain\": [0, 0.2]}, \"xaxis\": {\"zeroline\": false, \"gridwidth\": 2, \"ticks\": \"\", \"dtick\": 1, \"tick0\": -0.5, \"showticklabels\": false}, \"yaxis2\": {\"domain\": [0.3, 1]}, \"xaxis2\": {\"anchor\": \"y2\"}, \"title\": \"TBD\"}, {\"showLink\": true, \"linkText\": \"Export to plot.ly\"})});</script>"
      ],
      "text/vnd.plotly.v1+html": [
       "<div id=\"b33d5c76-1b6e-440d-a08b-838231237338\" style=\"height: 500px; width: 100%;\" class=\"plotly-graph-div\"></div><script type=\"text/javascript\">require([\"plotly\"], function(Plotly) { window.PLOTLYENV=window.PLOTLYENV || {};window.PLOTLYENV.BASE_URL=\"https://plot.ly\";Plotly.newPlot(\"b33d5c76-1b6e-440d-a08b-838231237338\", [{\"type\": \"heatmap\", \"z\": [[0, 0], [0, 0.5], [0, 1], [0, 0.5]], \"opacity\": 0.75, \"colorscale\": [[0, \"#00083e\"], [0.5, \"#ededee\"], [1, \"#ffffff\"]], \"showscale\": false, \"hoverinfo\": \"none\"}, {\"type\": \"bar\", \"x\": [\"Type1\", \"Type2\", \"Type3\"], \"y\": [196, 135, 135], \"marker\": {\"color\": \"rgb(158,202,225)\"}, \"xaxis\": \"x2\", \"yaxis\": \"y2\"}], {\"annotations\": [{\"text\": \"<b></b>\", \"x\": -0.45, \"y\": 0, \"xref\": \"x1\", \"yref\": \"y1\", \"align\": \"left\", \"xanchor\": \"left\", \"font\": {\"color\": \"#ffffff\"}, \"showarrow\": false}, {\"text\": \"<b>Numbers</b>\", \"x\": 0.55, \"y\": 0, \"xref\": \"x1\", \"yref\": \"y1\", \"align\": \"left\", \"xanchor\": \"left\", \"font\": {\"color\": \"#ffffff\"}, \"showarrow\": false}, {\"text\": \"<b>Type1</b>\", \"x\": -0.45, \"y\": 1, \"xref\": \"x1\", \"yref\": \"y1\", \"align\": \"left\", \"xanchor\": \"left\", \"font\": {\"color\": \"#ffffff\"}, \"showarrow\": false}, {\"text\": \"196\", \"x\": 0.55, \"y\": 1, \"xref\": \"x1\", \"yref\": \"y1\", \"align\": \"left\", \"xanchor\": \"left\", \"font\": {\"color\": \"#000000\"}, \"showarrow\": false}, {\"text\": \"<b>Type2</b>\", \"x\": -0.45, \"y\": 2, \"xref\": \"x1\", \"yref\": \"y1\", \"align\": \"left\", \"xanchor\": \"left\", \"font\": {\"color\": \"#ffffff\"}, \"showarrow\": false}, {\"text\": \"135\", \"x\": 0.55, \"y\": 2, \"xref\": \"x1\", \"yref\": \"y1\", \"align\": \"left\", \"xanchor\": \"left\", \"font\": {\"color\": \"#000000\"}, \"showarrow\": false}, {\"text\": \"<b>Type3</b>\", \"x\": -0.45, \"y\": 3, \"xref\": \"x1\", \"yref\": \"y1\", \"align\": \"left\", \"xanchor\": \"left\", \"font\": {\"color\": \"#ffffff\"}, \"showarrow\": false}, {\"text\": \"135\", \"x\": 0.55, \"y\": 3, \"xref\": \"x1\", \"yref\": \"y1\", \"align\": \"left\", \"xanchor\": \"left\", \"font\": {\"color\": \"#000000\"}, \"showarrow\": false}], \"height\": 500, \"margin\": {\"t\": 30, \"b\": 0, \"r\": 0, \"l\": 40}, \"yaxis\": {\"autorange\": \"reversed\", \"zeroline\": false, \"gridwidth\": 2, \"ticks\": \"\", \"dtick\": 1, \"tick0\": 0.5, \"showticklabels\": false, \"domain\": [0, 0.2]}, \"xaxis\": {\"zeroline\": false, \"gridwidth\": 2, \"ticks\": \"\", \"dtick\": 1, \"tick0\": -0.5, \"showticklabels\": false}, \"yaxis2\": {\"domain\": [0.3, 1]}, \"xaxis2\": {\"anchor\": \"y2\"}, \"title\": \"TBD\"}, {\"showLink\": true, \"linkText\": \"Export to plot.ly\"})});</script>"
      ]
     },
     "metadata": {},
     "output_type": "display_data"
    }
   ],
   "source": [
    "iplot(figure)"
   ]
  },
  {
   "cell_type": "code",
   "execution_count": null,
   "metadata": {
    "collapsed": true
   },
   "outputs": [],
   "source": []
  }
 ],
 "metadata": {
  "celltoolbar": "Slideshow",
  "kernelspec": {
   "display_name": "Python 3",
   "language": "python",
   "name": "python3"
  },
  "language_info": {
   "codemirror_mode": {
    "name": "ipython",
    "version": 3
   },
   "file_extension": ".py",
   "mimetype": "text/x-python",
   "name": "python",
   "nbconvert_exporter": "python",
   "pygments_lexer": "ipython3",
   "version": "3.6.0"
  }
 },
 "nbformat": 4,
 "nbformat_minor": 2
}
