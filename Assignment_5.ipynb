{
 "cells": [
  {
   "cell_type": "code",
   "execution_count": 95,
   "metadata": {
    "collapsed": true
   },
   "outputs": [],
   "source": [
    "%matplotlib inline\n",
    "import matplotlib.pylab as plt\n",
    "import matplotlib as mpl\n",
    "import seaborn as sns\n",
    "import numpy as np\n",
    "import pandas as pd\n",
    "\n",
    "from sklearn.cluster import KMeans\n",
    "from sklearn.preprocessing import normalize"
   ]
  },
  {
   "cell_type": "code",
   "execution_count": 3,
   "metadata": {
    "collapsed": true
   },
   "outputs": [],
   "source": [
    "profiles = pd.read_csv(\"data/profiles.csv\")"
   ]
  },
  {
   "cell_type": "code",
   "execution_count": 4,
   "metadata": {},
   "outputs": [
    {
     "data": {
      "text/html": [
       "<div>\n",
       "<style>\n",
       "    .dataframe thead tr:only-child th {\n",
       "        text-align: right;\n",
       "    }\n",
       "\n",
       "    .dataframe thead th {\n",
       "        text-align: left;\n",
       "    }\n",
       "\n",
       "    .dataframe tbody tr th {\n",
       "        vertical-align: top;\n",
       "    }\n",
       "</style>\n",
       "<table border=\"1\" class=\"dataframe\">\n",
       "  <thead>\n",
       "    <tr style=\"text-align: right;\">\n",
       "      <th></th>\n",
       "      <th>age</th>\n",
       "      <th>body_type</th>\n",
       "      <th>diet</th>\n",
       "      <th>drinks</th>\n",
       "      <th>drugs</th>\n",
       "      <th>education</th>\n",
       "      <th>ethnicity</th>\n",
       "      <th>height</th>\n",
       "      <th>income</th>\n",
       "      <th>job</th>\n",
       "      <th>location</th>\n",
       "      <th>orientation</th>\n",
       "      <th>sex</th>\n",
       "      <th>smokes</th>\n",
       "      <th>status</th>\n",
       "    </tr>\n",
       "  </thead>\n",
       "  <tbody>\n",
       "    <tr>\n",
       "      <th>0</th>\n",
       "      <td>22</td>\n",
       "      <td>a little extra</td>\n",
       "      <td>strictly anything</td>\n",
       "      <td>socially</td>\n",
       "      <td>never</td>\n",
       "      <td>working on college/university</td>\n",
       "      <td>asian, white</td>\n",
       "      <td>75.0</td>\n",
       "      <td>NaN</td>\n",
       "      <td>transportation</td>\n",
       "      <td>south san francisco, california</td>\n",
       "      <td>straight</td>\n",
       "      <td>m</td>\n",
       "      <td>sometimes</td>\n",
       "      <td>single</td>\n",
       "    </tr>\n",
       "    <tr>\n",
       "      <th>1</th>\n",
       "      <td>35</td>\n",
       "      <td>average</td>\n",
       "      <td>mostly other</td>\n",
       "      <td>often</td>\n",
       "      <td>sometimes</td>\n",
       "      <td>working on space camp</td>\n",
       "      <td>white</td>\n",
       "      <td>70.0</td>\n",
       "      <td>80000.0</td>\n",
       "      <td>hospitality / travel</td>\n",
       "      <td>oakland, california</td>\n",
       "      <td>straight</td>\n",
       "      <td>m</td>\n",
       "      <td>no</td>\n",
       "      <td>single</td>\n",
       "    </tr>\n",
       "    <tr>\n",
       "      <th>2</th>\n",
       "      <td>38</td>\n",
       "      <td>thin</td>\n",
       "      <td>anything</td>\n",
       "      <td>socially</td>\n",
       "      <td>NaN</td>\n",
       "      <td>graduated from masters program</td>\n",
       "      <td>NaN</td>\n",
       "      <td>68.0</td>\n",
       "      <td>NaN</td>\n",
       "      <td>NaN</td>\n",
       "      <td>san francisco, california</td>\n",
       "      <td>straight</td>\n",
       "      <td>m</td>\n",
       "      <td>no</td>\n",
       "      <td>available</td>\n",
       "    </tr>\n",
       "  </tbody>\n",
       "</table>\n",
       "</div>"
      ],
      "text/plain": [
       "   age       body_type               diet    drinks      drugs  \\\n",
       "0   22  a little extra  strictly anything  socially      never   \n",
       "1   35         average       mostly other     often  sometimes   \n",
       "2   38            thin           anything  socially        NaN   \n",
       "\n",
       "                        education     ethnicity  height   income  \\\n",
       "0   working on college/university  asian, white    75.0      NaN   \n",
       "1           working on space camp         white    70.0  80000.0   \n",
       "2  graduated from masters program           NaN    68.0      NaN   \n",
       "\n",
       "                    job                         location orientation sex  \\\n",
       "0        transportation  south san francisco, california    straight   m   \n",
       "1  hospitality / travel              oakland, california    straight   m   \n",
       "2                   NaN        san francisco, california    straight   m   \n",
       "\n",
       "      smokes     status  \n",
       "0  sometimes     single  \n",
       "1         no     single  \n",
       "2         no  available  "
      ]
     },
     "execution_count": 4,
     "metadata": {},
     "output_type": "execute_result"
    }
   ],
   "source": [
    "profiles.head(3)"
   ]
  },
  {
   "cell_type": "code",
   "execution_count": 92,
   "metadata": {},
   "outputs": [
    {
     "data": {
      "text/plain": [
       "{18: 309,\n",
       " 19: 611,\n",
       " 20: 953,\n",
       " 21: 1282,\n",
       " 22: 1934,\n",
       " 23: 2592,\n",
       " 24: 3242,\n",
       " 25: 3531,\n",
       " 26: 3724,\n",
       " 27: 3685,\n",
       " 28: 3583,\n",
       " 29: 3295,\n",
       " 30: 3149,\n",
       " 31: 2735,\n",
       " 32: 2587,\n",
       " 33: 2206,\n",
       " 34: 1902,\n",
       " 35: 1755,\n",
       " 36: 1583,\n",
       " 37: 1427,\n",
       " 38: 1330,\n",
       " 39: 1172,\n",
       " 40: 1030,\n",
       " 41: 980,\n",
       " 42: 1072,\n",
       " 43: 858,\n",
       " 44: 708,\n",
       " 45: 643,\n",
       " 46: 578,\n",
       " 47: 529,\n",
       " 48: 481,\n",
       " 49: 459,\n",
       " 50: 437,\n",
       " 51: 350,\n",
       " 52: 344,\n",
       " 53: 252,\n",
       " 54: 267,\n",
       " 55: 265,\n",
       " 56: 271,\n",
       " 57: 256,\n",
       " 58: 197,\n",
       " 59: 221,\n",
       " 60: 195,\n",
       " 61: 176,\n",
       " 62: 167,\n",
       " 63: 138,\n",
       " 64: 113,\n",
       " 65: 109,\n",
       " 66: 105,\n",
       " 67: 66,\n",
       " 68: 59,\n",
       " 69: 31,\n",
       " 109: 1,\n",
       " 110: 1}"
      ]
     },
     "execution_count": 92,
     "metadata": {},
     "output_type": "execute_result"
    }
   ],
   "source": [
    "dict(profiles['age'].value_counts(dropna=False))"
   ]
  },
  {
   "cell_type": "code",
   "execution_count": 5,
   "metadata": {},
   "outputs": [
    {
     "data": {
      "text/plain": [
       "{'a little extra': 2629,\n",
       " 'athletic': 11819,\n",
       " 'average': 14652,\n",
       " 'curvy': 3924,\n",
       " 'fit': 12711,\n",
       " 'full figured': 1009,\n",
       " 'jacked': 421,\n",
       " 'overweight': 444,\n",
       " 'rather not say': 198,\n",
       " 'skinny': 1777,\n",
       " 'thin': 4711,\n",
       " 'used up': 355}"
      ]
     },
     "execution_count": 5,
     "metadata": {},
     "output_type": "execute_result"
    }
   ],
   "source": [
    "dict(profiles['body_type'].value_counts())"
   ]
  },
  {
   "cell_type": "code",
   "execution_count": 93,
   "metadata": {},
   "outputs": [
    {
     "data": {
      "text/plain": [
       "5296"
      ]
     },
     "execution_count": 93,
     "metadata": {},
     "output_type": "execute_result"
    }
   ],
   "source": [
    "profiles['body_type'].isnull().values.sum()"
   ]
  },
  {
   "cell_type": "code",
   "execution_count": 6,
   "metadata": {},
   "outputs": [
    {
     "data": {
      "text/plain": [
       "{'anything': 6183,\n",
       " 'halal': 11,\n",
       " 'kosher': 11,\n",
       " 'mostly anything': 16585,\n",
       " 'mostly halal': 48,\n",
       " 'mostly kosher': 86,\n",
       " 'mostly other': 1007,\n",
       " 'mostly vegan': 338,\n",
       " 'mostly vegetarian': 3444,\n",
       " 'other': 331,\n",
       " 'strictly anything': 5113,\n",
       " 'strictly halal': 18,\n",
       " 'strictly kosher': 18,\n",
       " 'strictly other': 452,\n",
       " 'strictly vegan': 228,\n",
       " 'strictly vegetarian': 875,\n",
       " 'vegan': 136,\n",
       " 'vegetarian': 667}"
      ]
     },
     "execution_count": 6,
     "metadata": {},
     "output_type": "execute_result"
    }
   ],
   "source": [
    "dict(profiles['diet'].value_counts())"
   ]
  },
  {
   "cell_type": "code",
   "execution_count": 94,
   "metadata": {},
   "outputs": [
    {
     "data": {
      "text/plain": [
       "24395"
      ]
     },
     "execution_count": 94,
     "metadata": {},
     "output_type": "execute_result"
    }
   ],
   "source": [
    "profiles['diet'].isnull().values.sum()"
   ]
  },
  {
   "cell_type": "code",
   "execution_count": 87,
   "metadata": {},
   "outputs": [
    {
     "data": {
      "text/plain": [
       "{'desperately': 322,\n",
       " 'not at all': 3267,\n",
       " 'often': 5164,\n",
       " 'rarely': 5957,\n",
       " 'socially': 41780,\n",
       " 'very often': 471}"
      ]
     },
     "execution_count": 87,
     "metadata": {},
     "output_type": "execute_result"
    }
   ],
   "source": [
    "dict(profiles['drinks'].value_counts())"
   ]
  },
  {
   "cell_type": "code",
   "execution_count": 95,
   "metadata": {},
   "outputs": [
    {
     "data": {
      "text/plain": [
       "2985"
      ]
     },
     "execution_count": 95,
     "metadata": {},
     "output_type": "execute_result"
    }
   ],
   "source": [
    "profiles['drinks'].isnull().values.sum()"
   ]
  },
  {
   "cell_type": "code",
   "execution_count": 85,
   "metadata": {},
   "outputs": [
    {
     "data": {
      "text/plain": [
       "{'never': 37724, 'often': 410, 'sometimes': 7732}"
      ]
     },
     "execution_count": 85,
     "metadata": {},
     "output_type": "execute_result"
    }
   ],
   "source": [
    "dict(profiles['drugs'].value_counts())"
   ]
  },
  {
   "cell_type": "code",
   "execution_count": 97,
   "metadata": {},
   "outputs": [
    {
     "data": {
      "text/plain": [
       "14080"
      ]
     },
     "execution_count": 97,
     "metadata": {},
     "output_type": "execute_result"
    }
   ],
   "source": [
    "profiles['drugs'].isnull().values.sum()"
   ]
  },
  {
   "cell_type": "code",
   "execution_count": 83,
   "metadata": {},
   "outputs": [
    {
     "data": {
      "text/plain": [
       "{'college/university': 801,\n",
       " 'dropped out of college/university': 995,\n",
       " 'dropped out of high school': 102,\n",
       " 'dropped out of law school': 18,\n",
       " 'dropped out of masters program': 140,\n",
       " 'dropped out of med school': 12,\n",
       " 'dropped out of ph.d program': 127,\n",
       " 'dropped out of space camp': 523,\n",
       " 'dropped out of two-year college': 191,\n",
       " 'graduated from college/university': 23959,\n",
       " 'graduated from high school': 1428,\n",
       " 'graduated from law school': 1122,\n",
       " 'graduated from masters program': 8961,\n",
       " 'graduated from med school': 446,\n",
       " 'graduated from ph.d program': 1272,\n",
       " 'graduated from space camp': 657,\n",
       " 'graduated from two-year college': 1531,\n",
       " 'high school': 96,\n",
       " 'law school': 19,\n",
       " 'masters program': 136,\n",
       " 'med school': 11,\n",
       " 'ph.d program': 26,\n",
       " 'space camp': 58,\n",
       " 'two-year college': 222,\n",
       " 'working on college/university': 5712,\n",
       " 'working on high school': 87,\n",
       " 'working on law school': 269,\n",
       " 'working on masters program': 1683,\n",
       " 'working on med school': 212,\n",
       " 'working on ph.d program': 983,\n",
       " 'working on space camp': 445,\n",
       " 'working on two-year college': 1074}"
      ]
     },
     "execution_count": 83,
     "metadata": {},
     "output_type": "execute_result"
    }
   ],
   "source": [
    "dict(profiles['education'].value_counts())"
   ]
  },
  {
   "cell_type": "code",
   "execution_count": 99,
   "metadata": {},
   "outputs": [
    {
     "data": {
      "text/plain": [
       "6628"
      ]
     },
     "execution_count": 99,
     "metadata": {},
     "output_type": "execute_result"
    }
   ],
   "source": [
    "profiles['education'].isnull().values.sum()"
   ]
  },
  {
   "cell_type": "code",
   "execution_count": 81,
   "metadata": {},
   "outputs": [
    {
     "data": {
      "text/plain": [
       "{'asian': 6134,\n",
       " 'asian, black': 59,\n",
       " 'asian, black, hispanic / latin': 2,\n",
       " 'asian, black, hispanic / latin, other': 2,\n",
       " 'asian, black, hispanic / latin, white': 2,\n",
       " 'asian, black, hispanic / latin, white, other': 1,\n",
       " 'asian, black, indian': 1,\n",
       " 'asian, black, indian, hispanic / latin, other': 1,\n",
       " 'asian, black, native american': 9,\n",
       " 'asian, black, native american, hispanic / latin': 2,\n",
       " 'asian, black, native american, hispanic / latin, white': 2,\n",
       " 'asian, black, native american, indian': 1,\n",
       " 'asian, black, native american, indian, hispanic / latin, white, other': 1,\n",
       " 'asian, black, native american, indian, pacific islander, hispanic / latin': 1,\n",
       " 'asian, black, native american, indian, pacific islander, white': 1,\n",
       " 'asian, black, native american, other': 2,\n",
       " 'asian, black, native american, pacific islander': 2,\n",
       " 'asian, black, native american, pacific islander, other': 1,\n",
       " 'asian, black, native american, pacific islander, white': 3,\n",
       " 'asian, black, native american, pacific islander, white, other': 1,\n",
       " 'asian, black, native american, white': 8,\n",
       " 'asian, black, native american, white, other': 2,\n",
       " 'asian, black, other': 9,\n",
       " 'asian, black, pacific islander': 6,\n",
       " 'asian, black, pacific islander, hispanic / latin': 4,\n",
       " 'asian, black, pacific islander, hispanic / latin, white': 1,\n",
       " 'asian, black, pacific islander, other': 1,\n",
       " 'asian, black, pacific islander, white': 2,\n",
       " 'asian, black, pacific islander, white, other': 1,\n",
       " 'asian, black, white': 15,\n",
       " 'asian, black, white, other': 1,\n",
       " 'asian, hispanic / latin': 88,\n",
       " 'asian, hispanic / latin, other': 9,\n",
       " 'asian, hispanic / latin, white': 42,\n",
       " 'asian, hispanic / latin, white, other': 9,\n",
       " 'asian, indian': 52,\n",
       " 'asian, indian, hispanic / latin': 2,\n",
       " 'asian, indian, hispanic / latin, other': 1,\n",
       " 'asian, indian, hispanic / latin, white': 1,\n",
       " 'asian, indian, other': 5,\n",
       " 'asian, indian, pacific islander': 6,\n",
       " 'asian, indian, pacific islander, hispanic / latin, white, other': 1,\n",
       " 'asian, indian, pacific islander, other': 3,\n",
       " 'asian, indian, white': 5,\n",
       " 'asian, indian, white, other': 2,\n",
       " 'asian, middle eastern': 12,\n",
       " 'asian, middle eastern, black': 2,\n",
       " 'asian, middle eastern, black, indian, pacific islander, hispanic / latin, white': 2,\n",
       " 'asian, middle eastern, black, native american, hispanic / latin, white': 1,\n",
       " 'asian, middle eastern, black, native american, indian, pacific islander, hispanic / latin': 1,\n",
       " 'asian, middle eastern, black, native american, indian, pacific islander, hispanic / latin, other': 2,\n",
       " 'asian, middle eastern, black, native american, indian, pacific islander, hispanic / latin, white': 9,\n",
       " 'asian, middle eastern, black, native american, indian, pacific islander, hispanic / latin, white, other': 66,\n",
       " 'asian, middle eastern, black, native american, indian, pacific islander, white': 1,\n",
       " 'asian, middle eastern, black, native american, pacific islander, hispanic / latin, white, other': 2,\n",
       " 'asian, middle eastern, black, pacific islander': 1,\n",
       " 'asian, middle eastern, black, pacific islander, hispanic / latin': 1,\n",
       " 'asian, middle eastern, black, pacific islander, hispanic / latin, white': 2,\n",
       " 'asian, middle eastern, black, white, other': 1,\n",
       " 'asian, middle eastern, hispanic / latin': 1,\n",
       " 'asian, middle eastern, hispanic / latin, white': 2,\n",
       " 'asian, middle eastern, hispanic / latin, white, other': 1,\n",
       " 'asian, middle eastern, indian': 5,\n",
       " 'asian, middle eastern, indian, hispanic / latin': 1,\n",
       " 'asian, middle eastern, indian, hispanic / latin, white, other': 1,\n",
       " 'asian, middle eastern, indian, other': 3,\n",
       " 'asian, middle eastern, native american, hispanic / latin, white': 1,\n",
       " 'asian, middle eastern, native american, indian, pacific islander, hispanic / latin, white': 2,\n",
       " 'asian, middle eastern, native american, pacific islander, hispanic / latin, white, other': 1,\n",
       " 'asian, middle eastern, native american, pacific islander, other': 1,\n",
       " 'asian, middle eastern, native american, pacific islander, white, other': 1,\n",
       " 'asian, middle eastern, other': 1,\n",
       " 'asian, middle eastern, white': 9,\n",
       " 'asian, middle eastern, white, other': 6,\n",
       " 'asian, native american': 3,\n",
       " 'asian, native american, hispanic / latin': 5,\n",
       " 'asian, native american, hispanic / latin, other': 1,\n",
       " 'asian, native american, hispanic / latin, white': 7,\n",
       " 'asian, native american, hispanic / latin, white, other': 4,\n",
       " 'asian, native american, indian, pacific islander, hispanic / latin, white': 1,\n",
       " 'asian, native american, indian, pacific islander, hispanic / latin, white, other': 1,\n",
       " 'asian, native american, other': 2,\n",
       " 'asian, native american, pacific islander': 2,\n",
       " 'asian, native american, pacific islander, hispanic / latin, white': 4,\n",
       " 'asian, native american, pacific islander, hispanic / latin, white, other': 1,\n",
       " 'asian, native american, pacific islander, white': 2,\n",
       " 'asian, native american, pacific islander, white, other': 2,\n",
       " 'asian, native american, white': 18,\n",
       " 'asian, native american, white, other': 5,\n",
       " 'asian, other': 95,\n",
       " 'asian, pacific islander': 395,\n",
       " 'asian, pacific islander, hispanic / latin': 13,\n",
       " 'asian, pacific islander, hispanic / latin, other': 2,\n",
       " 'asian, pacific islander, hispanic / latin, white': 11,\n",
       " 'asian, pacific islander, hispanic / latin, white, other': 5,\n",
       " 'asian, pacific islander, other': 38,\n",
       " 'asian, pacific islander, white': 55,\n",
       " 'asian, pacific islander, white, other': 10,\n",
       " 'asian, white': 811,\n",
       " 'asian, white, other': 69,\n",
       " 'black': 2008,\n",
       " 'black, hispanic / latin': 119,\n",
       " 'black, hispanic / latin, other': 13,\n",
       " 'black, hispanic / latin, white': 36,\n",
       " 'black, hispanic / latin, white, other': 5,\n",
       " 'black, indian': 17,\n",
       " 'black, indian, hispanic / latin': 3,\n",
       " 'black, indian, hispanic / latin, white': 2,\n",
       " 'black, indian, other': 3,\n",
       " 'black, indian, white': 6,\n",
       " 'black, indian, white, other': 4,\n",
       " 'black, native american': 100,\n",
       " 'black, native american, hispanic / latin': 19,\n",
       " 'black, native american, hispanic / latin, other': 5,\n",
       " 'black, native american, hispanic / latin, white': 26,\n",
       " 'black, native american, hispanic / latin, white, other': 10,\n",
       " 'black, native american, indian': 1,\n",
       " 'black, native american, indian, hispanic / latin, white, other': 1,\n",
       " 'black, native american, indian, other': 3,\n",
       " 'black, native american, indian, pacific islander': 1,\n",
       " 'black, native american, indian, pacific islander, hispanic / latin': 1,\n",
       " 'black, native american, indian, white': 1,\n",
       " 'black, native american, indian, white, other': 2,\n",
       " 'black, native american, other': 27,\n",
       " 'black, native american, pacific islander': 2,\n",
       " 'black, native american, pacific islander, hispanic / latin': 1,\n",
       " 'black, native american, pacific islander, hispanic / latin, white': 2,\n",
       " 'black, native american, pacific islander, hispanic / latin, white, other': 2,\n",
       " 'black, native american, pacific islander, other': 1,\n",
       " 'black, native american, pacific islander, white': 2,\n",
       " 'black, native american, pacific islander, white, other': 1,\n",
       " 'black, native american, white': 110,\n",
       " 'black, native american, white, other': 29,\n",
       " 'black, other': 133,\n",
       " 'black, pacific islander': 15,\n",
       " 'black, pacific islander, hispanic / latin': 5,\n",
       " 'black, pacific islander, other': 4,\n",
       " 'black, pacific islander, white': 4,\n",
       " 'black, white': 298,\n",
       " 'black, white, other': 49,\n",
       " 'hispanic / latin': 2823,\n",
       " 'hispanic / latin, other': 138,\n",
       " 'hispanic / latin, white': 1301,\n",
       " 'hispanic / latin, white, other': 117,\n",
       " 'indian': 1077,\n",
       " 'indian, hispanic / latin': 8,\n",
       " 'indian, hispanic / latin, other': 4,\n",
       " 'indian, hispanic / latin, white': 2,\n",
       " 'indian, hispanic / latin, white, other': 2,\n",
       " 'indian, other': 30,\n",
       " 'indian, pacific islander': 12,\n",
       " 'indian, pacific islander, hispanic / latin, white': 1,\n",
       " 'indian, white': 46,\n",
       " 'indian, white, other': 14,\n",
       " 'middle eastern': 329,\n",
       " 'middle eastern, black': 6,\n",
       " 'middle eastern, black, hispanic / latin': 1,\n",
       " 'middle eastern, black, indian, pacific islander, hispanic / latin, white': 1,\n",
       " 'middle eastern, black, native american, hispanic / latin, white': 1,\n",
       " 'middle eastern, black, native american, indian': 1,\n",
       " 'middle eastern, black, native american, indian, hispanic / latin, white': 1,\n",
       " 'middle eastern, black, native american, indian, pacific islander, hispanic / latin, white': 1,\n",
       " 'middle eastern, black, native american, indian, pacific islander, hispanic / latin, white, other': 1,\n",
       " 'middle eastern, black, native american, indian, white, other': 2,\n",
       " 'middle eastern, black, native american, white': 2,\n",
       " 'middle eastern, black, native american, white, other': 1,\n",
       " 'middle eastern, black, other': 1,\n",
       " 'middle eastern, black, pacific islander, white': 1,\n",
       " 'middle eastern, black, white': 2,\n",
       " 'middle eastern, hispanic / latin': 39,\n",
       " 'middle eastern, hispanic / latin, other': 4,\n",
       " 'middle eastern, hispanic / latin, white': 12,\n",
       " 'middle eastern, hispanic / latin, white, other': 2,\n",
       " 'middle eastern, indian': 11,\n",
       " 'middle eastern, indian, other': 4,\n",
       " 'middle eastern, indian, white': 1,\n",
       " 'middle eastern, indian, white, other': 2,\n",
       " 'middle eastern, native american': 1,\n",
       " 'middle eastern, native american, hispanic / latin': 3,\n",
       " 'middle eastern, native american, hispanic / latin, white': 2,\n",
       " 'middle eastern, native american, hispanic / latin, white, other': 2,\n",
       " 'middle eastern, native american, white': 8,\n",
       " 'middle eastern, native american, white, other': 1,\n",
       " 'middle eastern, other': 23,\n",
       " 'middle eastern, pacific islander': 1,\n",
       " 'middle eastern, pacific islander, hispanic / latin': 1,\n",
       " 'middle eastern, pacific islander, other': 3,\n",
       " 'middle eastern, white': 300,\n",
       " 'middle eastern, white, other': 40,\n",
       " 'native american': 67,\n",
       " 'native american, hispanic / latin': 73,\n",
       " 'native american, hispanic / latin, other': 13,\n",
       " 'native american, hispanic / latin, white': 87,\n",
       " 'native american, hispanic / latin, white, other': 33,\n",
       " 'native american, indian': 2,\n",
       " 'native american, indian, pacific islander, hispanic / latin': 1,\n",
       " 'native american, indian, white': 1,\n",
       " 'native american, other': 16,\n",
       " 'native american, pacific islander': 2,\n",
       " 'native american, pacific islander, hispanic / latin': 5,\n",
       " 'native american, pacific islander, hispanic / latin, white': 5,\n",
       " 'native american, pacific islander, hispanic / latin, white, other': 3,\n",
       " 'native american, pacific islander, white': 7,\n",
       " 'native american, pacific islander, white, other': 2,\n",
       " 'native american, white': 338,\n",
       " 'native american, white, other': 54,\n",
       " 'other': 1706,\n",
       " 'pacific islander': 432,\n",
       " 'pacific islander, hispanic / latin': 57,\n",
       " 'pacific islander, hispanic / latin, other': 5,\n",
       " 'pacific islander, hispanic / latin, white': 30,\n",
       " 'pacific islander, hispanic / latin, white, other': 5,\n",
       " 'pacific islander, other': 14,\n",
       " 'pacific islander, white': 156,\n",
       " 'pacific islander, white, other': 18,\n",
       " 'white': 32831,\n",
       " 'white, other': 641}"
      ]
     },
     "execution_count": 81,
     "metadata": {},
     "output_type": "execute_result"
    }
   ],
   "source": [
    "dict(profiles['ethnicity'].value_counts())"
   ]
  },
  {
   "cell_type": "code",
   "execution_count": 100,
   "metadata": {},
   "outputs": [
    {
     "data": {
      "text/plain": [
       "5680"
      ]
     },
     "execution_count": 100,
     "metadata": {},
     "output_type": "execute_result"
    }
   ],
   "source": [
    "profiles['ethnicity'].isnull().values.sum()"
   ]
  },
  {
   "cell_type": "code",
   "execution_count": 79,
   "metadata": {},
   "outputs": [
    {
     "data": {
      "text/plain": [
       "{1.0: 1,\n",
       " 3.0: 1,\n",
       " 4.0: 1,\n",
       " 6.0: 1,\n",
       " 8.0: 1,\n",
       " 9.0: 1,\n",
       " 26.0: 1,\n",
       " 36.0: 11,\n",
       " 37.0: 2,\n",
       " 42.0: 1,\n",
       " 43.0: 2,\n",
       " 47.0: 1,\n",
       " 48.0: 2,\n",
       " 49.0: 1,\n",
       " 50.0: 2,\n",
       " 51.0: 1,\n",
       " 52.0: 1,\n",
       " 53.0: 5,\n",
       " 54.0: 3,\n",
       " 55.0: 6,\n",
       " 56.0: 8,\n",
       " 57.0: 17,\n",
       " 58.0: 53,\n",
       " 59.0: 212,\n",
       " 60.0: 791,\n",
       " 61.0: 1090,\n",
       " 62.0: 2244,\n",
       " 63.0: 2767,\n",
       " 64.0: 3865,\n",
       " 65.0: 3794,\n",
       " 66.0: 4759,\n",
       " 67.0: 5354,\n",
       " 68.0: 5449,\n",
       " 69.0: 5179,\n",
       " 70.0: 6074,\n",
       " 71.0: 4826,\n",
       " 72.0: 5315,\n",
       " 73.0: 2815,\n",
       " 74.0: 2547,\n",
       " 75.0: 1382,\n",
       " 76.0: 783,\n",
       " 77.0: 280,\n",
       " 78.0: 132,\n",
       " 79.0: 57,\n",
       " 80.0: 27,\n",
       " 81.0: 11,\n",
       " 82.0: 11,\n",
       " 83.0: 12,\n",
       " 84.0: 9,\n",
       " 85.0: 1,\n",
       " 86.0: 1,\n",
       " 87.0: 1,\n",
       " 88.0: 2,\n",
       " 89.0: 1,\n",
       " 90.0: 1,\n",
       " 91.0: 3,\n",
       " 92.0: 1,\n",
       " 93.0: 1,\n",
       " 94.0: 3,\n",
       " 95.0: 20,\n",
       " nan: 3}"
      ]
     },
     "execution_count": 79,
     "metadata": {},
     "output_type": "execute_result"
    }
   ],
   "source": [
    "dict(profiles['height'].value_counts(dropna=False))"
   ]
  },
  {
   "cell_type": "code",
   "execution_count": 78,
   "metadata": {},
   "outputs": [
    {
     "data": {
      "text/plain": [
       "{nan: 48442,\n",
       " 20000.0: 2952,\n",
       " 30000.0: 1048,\n",
       " 40000.0: 1005,\n",
       " 50000.0: 975,\n",
       " 60000.0: 736,\n",
       " 70000.0: 707,\n",
       " 80000.0: 1111,\n",
       " 100000.0: 1621,\n",
       " 150000.0: 631,\n",
       " 250000.0: 149,\n",
       " 500000.0: 48,\n",
       " 1000000.0: 521}"
      ]
     },
     "execution_count": 78,
     "metadata": {},
     "output_type": "execute_result"
    }
   ],
   "source": [
    "dict(profiles['income'].value_counts(dropna=False))"
   ]
  },
  {
   "cell_type": "code",
   "execution_count": 91,
   "metadata": {},
   "outputs": [
    {
     "data": {
      "text/plain": [
       "{'artistic / musical / writer': 4439,\n",
       " 'banking / financial / real estate': 2266,\n",
       " 'clerical / administrative': 805,\n",
       " 'computer / hardware / software': 4709,\n",
       " 'construction / craftsmanship': 1021,\n",
       " 'education / academia': 3513,\n",
       " 'entertainment / media': 2250,\n",
       " 'executive / management': 2373,\n",
       " 'hospitality / travel': 1364,\n",
       " 'law / legal services': 1381,\n",
       " 'medicine / health': 3680,\n",
       " 'military': 204,\n",
       " 'other': 7589,\n",
       " 'political / government': 708,\n",
       " 'rather not say': 436,\n",
       " 'retired': 250,\n",
       " 'sales / marketing / biz dev': 4391,\n",
       " 'science / tech / engineering': 4848,\n",
       " 'student': 4882,\n",
       " 'transportation': 366,\n",
       " 'unemployed': 273}"
      ]
     },
     "execution_count": 91,
     "metadata": {},
     "output_type": "execute_result"
    }
   ],
   "source": [
    "dict(profiles['job'].value_counts())"
   ]
  },
  {
   "cell_type": "code",
   "execution_count": 101,
   "metadata": {},
   "outputs": [
    {
     "data": {
      "text/plain": [
       "8198"
      ]
     },
     "execution_count": 101,
     "metadata": {},
     "output_type": "execute_result"
    }
   ],
   "source": [
    "profiles['job'].isnull().values.sum()"
   ]
  },
  {
   "cell_type": "code",
   "execution_count": 89,
   "metadata": {},
   "outputs": [
    {
     "data": {
      "text/plain": [
       "{'alameda, california': 910,\n",
       " 'albany, california': 233,\n",
       " 'amsterdam, netherlands': 1,\n",
       " 'arcadia, california': 1,\n",
       " 'asheville, north carolina': 1,\n",
       " 'ashland, california': 1,\n",
       " 'astoria, new york': 1,\n",
       " 'atherton, california': 45,\n",
       " 'atlanta, georgia': 2,\n",
       " 'austin, texas': 1,\n",
       " 'bayshore, california': 3,\n",
       " 'bellingham, washington': 1,\n",
       " 'bellwood, illinois': 1,\n",
       " 'belmont, california': 243,\n",
       " 'belvedere tiburon, california': 57,\n",
       " 'benicia, california': 203,\n",
       " 'berkeley, california': 4212,\n",
       " 'billings, montana': 1,\n",
       " 'boise, idaho': 1,\n",
       " 'bolinas, california': 8,\n",
       " 'bonaduz, switzerland': 1,\n",
       " 'boston, massachusetts': 2,\n",
       " 'boulder, colorado': 1,\n",
       " 'brea, california': 1,\n",
       " 'brisbane, california': 38,\n",
       " 'brooklyn, new york': 3,\n",
       " 'burlingame, california': 361,\n",
       " 'cambridge, massachusetts': 1,\n",
       " 'campbell, california': 1,\n",
       " 'canyon country, california': 1,\n",
       " 'canyon, california': 1,\n",
       " 'castro valley, california': 345,\n",
       " 'chicago, illinois': 6,\n",
       " 'chico, california': 1,\n",
       " 'cincinnati, ohio': 1,\n",
       " 'colma, california': 7,\n",
       " 'columbus, ohio': 1,\n",
       " 'concord, california': 1,\n",
       " 'cork, ireland': 1,\n",
       " 'corte madera, california': 76,\n",
       " 'costa mesa, california': 1,\n",
       " 'crockett, california': 32,\n",
       " 'crowley, texas': 1,\n",
       " 'daly city, california': 681,\n",
       " 'denver, colorado': 1,\n",
       " 'east palo alto, california': 13,\n",
       " 'edinburgh, united kingdom': 1,\n",
       " 'el cerrito, california': 325,\n",
       " 'el granada, california': 27,\n",
       " 'el sobrante, california': 137,\n",
       " 'emeryville, california': 738,\n",
       " 'fairfax, california': 121,\n",
       " 'fayetteville, west virginia': 1,\n",
       " 'forest knolls, california': 2,\n",
       " 'fort lauderdale, florida': 1,\n",
       " 'foster city, california': 24,\n",
       " 'freedom, california': 1,\n",
       " 'fremont, california': 90,\n",
       " 'glencove, california': 1,\n",
       " 'grand rapids, michigan': 1,\n",
       " 'granite bay, california': 1,\n",
       " 'green brae, california': 87,\n",
       " 'guadalajara, mexico': 1,\n",
       " 'hacienda heights, california': 1,\n",
       " 'half moon bay, california': 99,\n",
       " 'hayward, california': 747,\n",
       " 'hercules, california': 117,\n",
       " 'hilarita, california': 1,\n",
       " 'hillsborough, california': 4,\n",
       " 'honolulu, hawaii': 1,\n",
       " 'irvine, california': 2,\n",
       " 'isla vista, california': 1,\n",
       " 'islip terrace, new york': 1,\n",
       " 'jackson, mississippi': 1,\n",
       " 'kansas city, missouri': 1,\n",
       " 'kassel, germany': 1,\n",
       " 'kensington, california': 2,\n",
       " 'kentfield, california': 18,\n",
       " 'kula, hawaii': 1,\n",
       " 'lafayette, california': 180,\n",
       " 'lagunitas, california': 10,\n",
       " 'lake orion, michigan': 1,\n",
       " 'larkspur, california': 80,\n",
       " 'las vegas, nevada': 1,\n",
       " 'leander, texas': 1,\n",
       " 'livingston, california': 1,\n",
       " 'london, united kingdom': 1,\n",
       " 'long beach, california': 1,\n",
       " 'long beach, new york': 1,\n",
       " 'longwood, florida': 1,\n",
       " 'los angeles, california': 10,\n",
       " 'los gatos, california': 2,\n",
       " 'madrid, spain': 2,\n",
       " 'magalia, california': 1,\n",
       " 'marin city, california': 1,\n",
       " 'martinez, california': 316,\n",
       " 'menlo park, california': 479,\n",
       " 'miami, florida': 1,\n",
       " 'mill valley, california': 315,\n",
       " 'millbrae, california': 155,\n",
       " 'milpitas, california': 1,\n",
       " 'milwaukee, wisconsin': 1,\n",
       " 'minneapolis, minnesota': 2,\n",
       " 'modesto, california': 1,\n",
       " 'montara, california': 12,\n",
       " 'moraga, california': 84,\n",
       " 'moss beach, california': 8,\n",
       " 'mountain view, california': 384,\n",
       " 'muir beach, california': 1,\n",
       " 'murfreesboro, tennessee': 1,\n",
       " 'napa, california': 2,\n",
       " 'nevada city, california': 1,\n",
       " 'new orleans, louisiana': 1,\n",
       " 'new york, new york': 10,\n",
       " 'nha trang, vietnam': 1,\n",
       " 'nicasio, california': 3,\n",
       " 'north hollywood, california': 1,\n",
       " 'novato, california': 369,\n",
       " 'oakland, california': 7214,\n",
       " 'oakley, california': 1,\n",
       " 'oceanview, california': 1,\n",
       " 'olema, california': 1,\n",
       " 'orange, california': 1,\n",
       " 'orinda, california': 85,\n",
       " 'ozone park, new york': 1,\n",
       " 'pacheco, california': 1,\n",
       " 'pacifica, california': 323,\n",
       " 'palo alto, california': 1064,\n",
       " 'pasadena, california': 1,\n",
       " 'peoria, illinois': 1,\n",
       " 'petaluma, california': 2,\n",
       " 'philadelphia, pennsylvania': 1,\n",
       " 'phoenix, arizona': 1,\n",
       " 'piedmont, california': 12,\n",
       " 'pinole, california': 104,\n",
       " 'pleasant hill, california': 347,\n",
       " 'point richmond, california': 8,\n",
       " 'port costa, california': 1,\n",
       " 'portland, oregon': 4,\n",
       " 'providence, rhode island': 1,\n",
       " 'redwood city, california': 693,\n",
       " 'redwood shores, california': 2,\n",
       " 'richmond, california': 424,\n",
       " 'riverside, california': 1,\n",
       " 'rochester, michigan': 1,\n",
       " 'rodeo, california': 37,\n",
       " 'rohnert park, california': 1,\n",
       " 'ross, california': 12,\n",
       " 'sacramento, california': 2,\n",
       " 'salt lake city, utah': 2,\n",
       " 'san anselmo, california': 147,\n",
       " 'san antonio, texas': 1,\n",
       " 'san bruno, california': 290,\n",
       " 'san carlos, california': 227,\n",
       " 'san diego, california': 6,\n",
       " 'san francisco, california': 31064,\n",
       " 'san geronimo, california': 9,\n",
       " 'san jose, california': 2,\n",
       " 'san leandro, california': 651,\n",
       " 'san lorenzo, california': 135,\n",
       " 'san luis obispo, california': 1,\n",
       " 'san mateo, california': 1331,\n",
       " 'san pablo, california': 245,\n",
       " 'san quentin, california': 2,\n",
       " 'san rafael, california': 755,\n",
       " 'santa ana, california': 1,\n",
       " 'santa clara, california': 1,\n",
       " 'santa cruz, california': 5,\n",
       " 'santa monica, california': 3,\n",
       " 'santa rosa, california': 2,\n",
       " 'sausalito, california': 179,\n",
       " 'seaside, california': 1,\n",
       " 'seattle, washington': 1,\n",
       " 'south lake tahoe, california': 1,\n",
       " 'south orange, new jersey': 1,\n",
       " 'south san francisco, california': 416,\n",
       " 'south wellfleet, massachusetts': 1,\n",
       " 'stanford, california': 341,\n",
       " 'stinson beach, california': 4,\n",
       " 'stockton, california': 1,\n",
       " 'stratford, connecticut': 1,\n",
       " 'studio city, california': 1,\n",
       " 'sunnyvale, california': 1,\n",
       " 'taunton, massachusetts': 1,\n",
       " 'tiburon, california': 5,\n",
       " 'tucson, arizona': 2,\n",
       " 'union city, california': 1,\n",
       " 'utica, michigan': 1,\n",
       " 'vacaville, california': 1,\n",
       " 'vallejo, california': 558,\n",
       " 'vancouver, british columbia, canada': 1,\n",
       " 'walnut creek, california': 644,\n",
       " 'washington, district of columbia': 2,\n",
       " 'waterford, california': 1,\n",
       " 'west oakland, california': 7,\n",
       " 'westlake, california': 11,\n",
       " 'woodacre, california': 16,\n",
       " 'woodbridge, virginia': 2,\n",
       " 'woodside, california': 11}"
      ]
     },
     "execution_count": 89,
     "metadata": {},
     "output_type": "execute_result"
    }
   ],
   "source": [
    "dict(profiles['location'].value_counts())"
   ]
  },
  {
   "cell_type": "code",
   "execution_count": 102,
   "metadata": {},
   "outputs": [
    {
     "data": {
      "text/plain": [
       "0"
      ]
     },
     "execution_count": 102,
     "metadata": {},
     "output_type": "execute_result"
    }
   ],
   "source": [
    "profiles['location'].isnull().values.sum()"
   ]
  },
  {
   "cell_type": "code",
   "execution_count": 15,
   "metadata": {},
   "outputs": [
    {
     "data": {
      "text/plain": [
       "{'bisexual': 2767, 'gay': 5573, 'straight': 51606}"
      ]
     },
     "execution_count": 15,
     "metadata": {},
     "output_type": "execute_result"
    }
   ],
   "source": [
    "dict(profiles['orientation'].value_counts())"
   ]
  },
  {
   "cell_type": "code",
   "execution_count": 103,
   "metadata": {},
   "outputs": [
    {
     "data": {
      "text/plain": [
       "0"
      ]
     },
     "execution_count": 103,
     "metadata": {},
     "output_type": "execute_result"
    }
   ],
   "source": [
    "profiles['orientation'].isnull().values.sum()"
   ]
  },
  {
   "cell_type": "code",
   "execution_count": 16,
   "metadata": {},
   "outputs": [
    {
     "data": {
      "text/plain": [
       "{'f': 24117, 'm': 35829}"
      ]
     },
     "execution_count": 16,
     "metadata": {},
     "output_type": "execute_result"
    }
   ],
   "source": [
    "dict(profiles['sex'].value_counts())"
   ]
  },
  {
   "cell_type": "code",
   "execution_count": 104,
   "metadata": {},
   "outputs": [
    {
     "data": {
      "text/plain": [
       "0"
      ]
     },
     "execution_count": 104,
     "metadata": {},
     "output_type": "execute_result"
    }
   ],
   "source": [
    "profiles['sex'].isnull().values.sum()"
   ]
  },
  {
   "cell_type": "code",
   "execution_count": 17,
   "metadata": {},
   "outputs": [
    {
     "data": {
      "text/plain": [
       "{'no': 43896,\n",
       " 'sometimes': 3787,\n",
       " 'trying to quit': 1480,\n",
       " 'when drinking': 3040,\n",
       " 'yes': 2231}"
      ]
     },
     "execution_count": 17,
     "metadata": {},
     "output_type": "execute_result"
    }
   ],
   "source": [
    "dict(profiles['smokes'].value_counts())"
   ]
  },
  {
   "cell_type": "code",
   "execution_count": 105,
   "metadata": {},
   "outputs": [
    {
     "data": {
      "text/plain": [
       "5512"
      ]
     },
     "execution_count": 105,
     "metadata": {},
     "output_type": "execute_result"
    }
   ],
   "source": [
    "profiles['smokes'].isnull().values.sum()"
   ]
  },
  {
   "cell_type": "code",
   "execution_count": 18,
   "metadata": {},
   "outputs": [
    {
     "data": {
      "text/plain": [
       "{'available': 1865,\n",
       " 'married': 310,\n",
       " 'seeing someone': 2064,\n",
       " 'single': 55697,\n",
       " 'unknown': 10}"
      ]
     },
     "execution_count": 18,
     "metadata": {},
     "output_type": "execute_result"
    }
   ],
   "source": [
    "dict(profiles['status'].value_counts())"
   ]
  },
  {
   "cell_type": "code",
   "execution_count": 106,
   "metadata": {},
   "outputs": [
    {
     "data": {
      "text/plain": [
       "0"
      ]
     },
     "execution_count": 106,
     "metadata": {},
     "output_type": "execute_result"
    }
   ],
   "source": [
    "profiles['status'].isnull().values.sum()"
   ]
  },
  {
   "cell_type": "code",
   "execution_count": 5,
   "metadata": {
    "collapsed": true
   },
   "outputs": [],
   "source": [
    "categ_vars = ['body_type', 'diet', 'drinks', 'drugs', 'education',\n",
    "              'ethnicity', 'job', 'location', 'orientation', 'sex',\n",
    "              'smokes', 'status']"
   ]
  },
  {
   "cell_type": "code",
   "execution_count": 6,
   "metadata": {
    "collapsed": true
   },
   "outputs": [],
   "source": [
    "categ_dummies = pd.DataFrame()\n",
    "for var in categ_vars:\n",
    "    dummies = pd.get_dummies(profiles[var])\n",
    "    categ_dummies = pd.concat([categ_dummies, dummies], axis = 1)\n",
    "categ_dummies = categ_dummies.values"
   ]
  },
  {
   "cell_type": "code",
   "execution_count": 7,
   "metadata": {},
   "outputs": [
    {
     "name": "stderr",
     "output_type": "stream",
     "text": [
      "/usr/local/lib/python3.6/site-packages/ipykernel_launcher.py:2: SettingWithCopyWarning: \n",
      "A value is trying to be set on a copy of a slice from a DataFrame\n",
      "\n",
      "See the caveats in the documentation: http://pandas.pydata.org/pandas-docs/stable/indexing.html#indexing-view-versus-copy\n",
      "  \n",
      "/usr/local/lib/python3.6/site-packages/pandas/core/generic.py:5233: SettingWithCopyWarning: \n",
      "A value is trying to be set on a copy of a slice from a DataFrame\n",
      "\n",
      "See the caveats in the documentation: http://pandas.pydata.org/pandas-docs/stable/indexing.html#indexing-view-versus-copy\n",
      "  self._update_inplace(new_data)\n",
      "/usr/local/lib/python3.6/site-packages/IPython/core/interactiveshell.py:2862: SettingWithCopyWarning: \n",
      "A value is trying to be set on a copy of a slice from a DataFrame\n",
      "\n",
      "See the caveats in the documentation: http://pandas.pydata.org/pandas-docs/stable/indexing.html#indexing-view-versus-copy\n",
      "  exec(code_obj, self.user_global_ns, self.user_ns)\n"
     ]
    }
   ],
   "source": [
    "num_profiles = profiles[['age', 'height']]\n",
    "num_profiles['height'][np.isnan(num_profiles['height'])] = np.mean(num_profiles['height'])"
   ]
  },
  {
   "cell_type": "code",
   "execution_count": 8,
   "metadata": {
    "collapsed": true
   },
   "outputs": [],
   "source": [
    "num_profiles = normalize(num_profiles)"
   ]
  },
  {
   "cell_type": "code",
   "execution_count": 9,
   "metadata": {
    "collapsed": true
   },
   "outputs": [],
   "source": [
    "train = np.concatenate([num_profiles, categ_dummies], axis=1)"
   ]
  },
  {
   "cell_type": "code",
   "execution_count": 10,
   "metadata": {
    "collapsed": true
   },
   "outputs": [],
   "source": [
    "kmeans = KMeans(n_clusters=, random_state=0).fit(train)"
   ]
  },
  {
   "cell_type": "code",
   "execution_count": 149,
   "metadata": {},
   "outputs": [
    {
     "data": {
      "text/plain": [
       "array([[  4.17431093e-01,   9.01110939e-01,   1.28167877e-01, ...,\n",
       "          3.47054076e-02,   9.21065375e-01,   3.22841001e-04],\n",
       "       [  3.98492928e-01,   9.13237721e-01,   3.51308625e-02, ...,\n",
       "          3.53065168e-02,   9.17969436e-01,   1.75654312e-04],\n",
       "       [  3.96398482e-01,   9.13767482e-01,   4.09717933e-02, ...,\n",
       "          7.98847025e-02,   8.35701050e-01,  -1.25496401e-17],\n",
       "       ..., \n",
       "       [  4.36789402e-01,   8.94454204e-01,   1.81326116e-02, ...,\n",
       "          2.44925575e-02,   9.62922869e-01,  -2.20635142e-17],\n",
       "       [  4.07823086e-01,   9.07802045e-01,   2.22044605e-16, ...,\n",
       "          1.44906947e-02,   9.62210541e-01,   1.42065634e-04],\n",
       "       [  4.10042373e-01,   9.06935632e-01,   7.32308860e-02, ...,\n",
       "          3.43388351e-02,   9.38721305e-01,  -1.47180445e-17]])"
      ]
     },
     "execution_count": 149,
     "metadata": {},
     "output_type": "execute_result"
    }
   ],
   "source": [
    "kmeans.cluster_centers_"
   ]
  },
  {
   "cell_type": "code",
   "execution_count": 32,
   "metadata": {},
   "outputs": [
    {
     "data": {
      "text/plain": [
       "5.3921511479263415"
      ]
     },
     "execution_count": 32,
     "metadata": {},
     "output_type": "execute_result"
    }
   ],
   "source": [
    "for i in range(kmeans.n_clusters):\n",
    "    print(np.sum(np.square(train[kmeans.labels_ == 0, ] - \n",
    "                           kmeans.cluster_centers_[0])) / )"
   ]
  },
  {
   "cell_type": "code",
   "execution_count": 79,
   "metadata": {
    "collapsed": true
   },
   "outputs": [],
   "source": [
    "profiles['full_data'] = 'Yes'"
   ]
  },
  {
   "cell_type": "code",
   "execution_count": 80,
   "metadata": {},
   "outputs": [
    {
     "name": "stderr",
     "output_type": "stream",
     "text": [
      "/usr/local/lib/python3.6/site-packages/ipykernel_launcher.py:2: SettingWithCopyWarning: \n",
      "A value is trying to be set on a copy of a slice from a DataFrame.\n",
      "Try using .loc[row_indexer,col_indexer] = value instead\n",
      "\n",
      "See the caveats in the documentation: http://pandas.pydata.org/pandas-docs/stable/indexing.html#indexing-view-versus-copy\n",
      "  \n"
     ]
    }
   ],
   "source": [
    "cluster0 = profiles.iloc[kmeans.labels_ == 0, ]\n",
    "cluster0['full_data'] = 'No'"
   ]
  },
  {
   "cell_type": "code",
   "execution_count": 115,
   "metadata": {},
   "outputs": [],
   "source": [
    "tmp = pd.concat([profiles, cluster0])"
   ]
  },
  {
   "cell_type": "code",
   "execution_count": 144,
   "metadata": {},
   "outputs": [
    {
     "data": {
      "text/plain": [
       "array([<matplotlib.axes._subplots.AxesSubplot object at 0x1134b8320>,\n",
       "       <matplotlib.axes._subplots.AxesSubplot object at 0x116a46390>], dtype=object)"
      ]
     },
     "execution_count": 144,
     "metadata": {},
     "output_type": "execute_result"
    },
    {
     "data": {
      "image/png": "[encoded data removed]",
      "text/plain": [
       "<matplotlib.figure.Figure at 0x114311a58>"
      ]
     },
     "metadata": {},
     "output_type": "display_data"
    }
   ],
   "source": [
    "tmp[['body_type', 'full_data']].groupby(['body_type','full_data']).size().unstack(1).plot(kind='bar', subplots=True)"
   ]
  },
  {
   "cell_type": "code",
   "execution_count": 132,
   "metadata": {},
   "outputs": [
    {
     "data": {
      "text/html": [
       "<div>\n",
       "<style>\n",
       "    .dataframe thead tr:only-child th {\n",
       "        text-align: right;\n",
       "    }\n",
       "\n",
       "    .dataframe thead th {\n",
       "        text-align: left;\n",
       "    }\n",
       "\n",
       "    .dataframe tbody tr th {\n",
       "        vertical-align: top;\n",
       "    }\n",
       "</style>\n",
       "<table border=\"1\" class=\"dataframe\">\n",
       "  <thead>\n",
       "    <tr style=\"text-align: right;\">\n",
       "      <th></th>\n",
       "      <th>body_type</th>\n",
       "      <th>full_data</th>\n",
       "    </tr>\n",
       "  </thead>\n",
       "  <tbody>\n",
       "    <tr>\n",
       "      <th>0</th>\n",
       "      <td>a little extra</td>\n",
       "      <td>Yes</td>\n",
       "    </tr>\n",
       "    <tr>\n",
       "      <th>1</th>\n",
       "      <td>average</td>\n",
       "      <td>Yes</td>\n",
       "    </tr>\n",
       "    <tr>\n",
       "      <th>2</th>\n",
       "      <td>thin</td>\n",
       "      <td>Yes</td>\n",
       "    </tr>\n",
       "    <tr>\n",
       "      <th>3</th>\n",
       "      <td>thin</td>\n",
       "      <td>Yes</td>\n",
       "    </tr>\n",
       "    <tr>\n",
       "      <th>4</th>\n",
       "      <td>athletic</td>\n",
       "      <td>Yes</td>\n",
       "    </tr>\n",
       "    <tr>\n",
       "      <th>5</th>\n",
       "      <td>average</td>\n",
       "      <td>Yes</td>\n",
       "    </tr>\n",
       "    <tr>\n",
       "      <th>6</th>\n",
       "      <td>fit</td>\n",
       "      <td>Yes</td>\n",
       "    </tr>\n",
       "    <tr>\n",
       "      <th>7</th>\n",
       "      <td>average</td>\n",
       "      <td>Yes</td>\n",
       "    </tr>\n",
       "    <tr>\n",
       "      <th>8</th>\n",
       "      <td>NaN</td>\n",
       "      <td>Yes</td>\n",
       "    </tr>\n",
       "    <tr>\n",
       "      <th>9</th>\n",
       "      <td>athletic</td>\n",
       "      <td>Yes</td>\n",
       "    </tr>\n",
       "    <tr>\n",
       "      <th>10</th>\n",
       "      <td>average</td>\n",
       "      <td>Yes</td>\n",
       "    </tr>\n",
       "    <tr>\n",
       "      <th>11</th>\n",
       "      <td>average</td>\n",
       "      <td>Yes</td>\n",
       "    </tr>\n",
       "    <tr>\n",
       "      <th>12</th>\n",
       "      <td>NaN</td>\n",
       "      <td>Yes</td>\n",
       "    </tr>\n",
       "    <tr>\n",
       "      <th>13</th>\n",
       "      <td>skinny</td>\n",
       "      <td>Yes</td>\n",
       "    </tr>\n",
       "    <tr>\n",
       "      <th>14</th>\n",
       "      <td>thin</td>\n",
       "      <td>Yes</td>\n",
       "    </tr>\n",
       "    <tr>\n",
       "      <th>15</th>\n",
       "      <td>fit</td>\n",
       "      <td>Yes</td>\n",
       "    </tr>\n",
       "    <tr>\n",
       "      <th>16</th>\n",
       "      <td>fit</td>\n",
       "      <td>Yes</td>\n",
       "    </tr>\n",
       "    <tr>\n",
       "      <th>17</th>\n",
       "      <td>average</td>\n",
       "      <td>Yes</td>\n",
       "    </tr>\n",
       "    <tr>\n",
       "      <th>18</th>\n",
       "      <td>average</td>\n",
       "      <td>Yes</td>\n",
       "    </tr>\n",
       "    <tr>\n",
       "      <th>19</th>\n",
       "      <td>athletic</td>\n",
       "      <td>Yes</td>\n",
       "    </tr>\n",
       "    <tr>\n",
       "      <th>20</th>\n",
       "      <td>average</td>\n",
       "      <td>Yes</td>\n",
       "    </tr>\n",
       "    <tr>\n",
       "      <th>21</th>\n",
       "      <td>athletic</td>\n",
       "      <td>Yes</td>\n",
       "    </tr>\n",
       "    <tr>\n",
       "      <th>22</th>\n",
       "      <td>fit</td>\n",
       "      <td>Yes</td>\n",
       "    </tr>\n",
       "    <tr>\n",
       "      <th>23</th>\n",
       "      <td>thin</td>\n",
       "      <td>Yes</td>\n",
       "    </tr>\n",
       "    <tr>\n",
       "      <th>24</th>\n",
       "      <td>thin</td>\n",
       "      <td>Yes</td>\n",
       "    </tr>\n",
       "    <tr>\n",
       "      <th>25</th>\n",
       "      <td>fit</td>\n",
       "      <td>Yes</td>\n",
       "    </tr>\n",
       "    <tr>\n",
       "      <th>26</th>\n",
       "      <td>fit</td>\n",
       "      <td>Yes</td>\n",
       "    </tr>\n",
       "    <tr>\n",
       "      <th>27</th>\n",
       "      <td>average</td>\n",
       "      <td>Yes</td>\n",
       "    </tr>\n",
       "    <tr>\n",
       "      <th>28</th>\n",
       "      <td>fit</td>\n",
       "      <td>Yes</td>\n",
       "    </tr>\n",
       "    <tr>\n",
       "      <th>29</th>\n",
       "      <td>fit</td>\n",
       "      <td>Yes</td>\n",
       "    </tr>\n",
       "    <tr>\n",
       "      <th>...</th>\n",
       "      <td>...</td>\n",
       "      <td>...</td>\n",
       "    </tr>\n",
       "    <tr>\n",
       "      <th>59653</th>\n",
       "      <td>average</td>\n",
       "      <td>No</td>\n",
       "    </tr>\n",
       "    <tr>\n",
       "      <th>59655</th>\n",
       "      <td>average</td>\n",
       "      <td>No</td>\n",
       "    </tr>\n",
       "    <tr>\n",
       "      <th>59661</th>\n",
       "      <td>average</td>\n",
       "      <td>No</td>\n",
       "    </tr>\n",
       "    <tr>\n",
       "      <th>59672</th>\n",
       "      <td>average</td>\n",
       "      <td>No</td>\n",
       "    </tr>\n",
       "    <tr>\n",
       "      <th>59677</th>\n",
       "      <td>NaN</td>\n",
       "      <td>No</td>\n",
       "    </tr>\n",
       "    <tr>\n",
       "      <th>59714</th>\n",
       "      <td>a little extra</td>\n",
       "      <td>No</td>\n",
       "    </tr>\n",
       "    <tr>\n",
       "      <th>59717</th>\n",
       "      <td>average</td>\n",
       "      <td>No</td>\n",
       "    </tr>\n",
       "    <tr>\n",
       "      <th>59718</th>\n",
       "      <td>a little extra</td>\n",
       "      <td>No</td>\n",
       "    </tr>\n",
       "    <tr>\n",
       "      <th>59720</th>\n",
       "      <td>average</td>\n",
       "      <td>No</td>\n",
       "    </tr>\n",
       "    <tr>\n",
       "      <th>59736</th>\n",
       "      <td>average</td>\n",
       "      <td>No</td>\n",
       "    </tr>\n",
       "    <tr>\n",
       "      <th>59738</th>\n",
       "      <td>average</td>\n",
       "      <td>No</td>\n",
       "    </tr>\n",
       "    <tr>\n",
       "      <th>59743</th>\n",
       "      <td>NaN</td>\n",
       "      <td>No</td>\n",
       "    </tr>\n",
       "    <tr>\n",
       "      <th>59749</th>\n",
       "      <td>average</td>\n",
       "      <td>No</td>\n",
       "    </tr>\n",
       "    <tr>\n",
       "      <th>59767</th>\n",
       "      <td>thin</td>\n",
       "      <td>No</td>\n",
       "    </tr>\n",
       "    <tr>\n",
       "      <th>59772</th>\n",
       "      <td>average</td>\n",
       "      <td>No</td>\n",
       "    </tr>\n",
       "    <tr>\n",
       "      <th>59798</th>\n",
       "      <td>average</td>\n",
       "      <td>No</td>\n",
       "    </tr>\n",
       "    <tr>\n",
       "      <th>59811</th>\n",
       "      <td>average</td>\n",
       "      <td>No</td>\n",
       "    </tr>\n",
       "    <tr>\n",
       "      <th>59820</th>\n",
       "      <td>average</td>\n",
       "      <td>No</td>\n",
       "    </tr>\n",
       "    <tr>\n",
       "      <th>59841</th>\n",
       "      <td>average</td>\n",
       "      <td>No</td>\n",
       "    </tr>\n",
       "    <tr>\n",
       "      <th>59853</th>\n",
       "      <td>average</td>\n",
       "      <td>No</td>\n",
       "    </tr>\n",
       "    <tr>\n",
       "      <th>59855</th>\n",
       "      <td>jacked</td>\n",
       "      <td>No</td>\n",
       "    </tr>\n",
       "    <tr>\n",
       "      <th>59856</th>\n",
       "      <td>NaN</td>\n",
       "      <td>No</td>\n",
       "    </tr>\n",
       "    <tr>\n",
       "      <th>59866</th>\n",
       "      <td>average</td>\n",
       "      <td>No</td>\n",
       "    </tr>\n",
       "    <tr>\n",
       "      <th>59875</th>\n",
       "      <td>average</td>\n",
       "      <td>No</td>\n",
       "    </tr>\n",
       "    <tr>\n",
       "      <th>59877</th>\n",
       "      <td>average</td>\n",
       "      <td>No</td>\n",
       "    </tr>\n",
       "    <tr>\n",
       "      <th>59923</th>\n",
       "      <td>overweight</td>\n",
       "      <td>No</td>\n",
       "    </tr>\n",
       "    <tr>\n",
       "      <th>59928</th>\n",
       "      <td>average</td>\n",
       "      <td>No</td>\n",
       "    </tr>\n",
       "    <tr>\n",
       "      <th>59930</th>\n",
       "      <td>curvy</td>\n",
       "      <td>No</td>\n",
       "    </tr>\n",
       "    <tr>\n",
       "      <th>59939</th>\n",
       "      <td>NaN</td>\n",
       "      <td>No</td>\n",
       "    </tr>\n",
       "    <tr>\n",
       "      <th>59943</th>\n",
       "      <td>average</td>\n",
       "      <td>No</td>\n",
       "    </tr>\n",
       "  </tbody>\n",
       "</table>\n",
       "<p>66141 rows × 2 columns</p>\n",
       "</div>"
      ],
      "text/plain": [
       "            body_type full_data\n",
       "0      a little extra       Yes\n",
       "1             average       Yes\n",
       "2                thin       Yes\n",
       "3                thin       Yes\n",
       "4            athletic       Yes\n",
       "5             average       Yes\n",
       "6                 fit       Yes\n",
       "7             average       Yes\n",
       "8                 NaN       Yes\n",
       "9            athletic       Yes\n",
       "10            average       Yes\n",
       "11            average       Yes\n",
       "12                NaN       Yes\n",
       "13             skinny       Yes\n",
       "14               thin       Yes\n",
       "15                fit       Yes\n",
       "16                fit       Yes\n",
       "17            average       Yes\n",
       "18            average       Yes\n",
       "19           athletic       Yes\n",
       "20            average       Yes\n",
       "21           athletic       Yes\n",
       "22                fit       Yes\n",
       "23               thin       Yes\n",
       "24               thin       Yes\n",
       "25                fit       Yes\n",
       "26                fit       Yes\n",
       "27            average       Yes\n",
       "28                fit       Yes\n",
       "29                fit       Yes\n",
       "...               ...       ...\n",
       "59653         average        No\n",
       "59655         average        No\n",
       "59661         average        No\n",
       "59672         average        No\n",
       "59677             NaN        No\n",
       "59714  a little extra        No\n",
       "59717         average        No\n",
       "59718  a little extra        No\n",
       "59720         average        No\n",
       "59736         average        No\n",
       "59738         average        No\n",
       "59743             NaN        No\n",
       "59749         average        No\n",
       "59767            thin        No\n",
       "59772         average        No\n",
       "59798         average        No\n",
       "59811         average        No\n",
       "59820         average        No\n",
       "59841         average        No\n",
       "59853         average        No\n",
       "59855          jacked        No\n",
       "59856             NaN        No\n",
       "59866         average        No\n",
       "59875         average        No\n",
       "59877         average        No\n",
       "59923      overweight        No\n",
       "59928         average        No\n",
       "59930           curvy        No\n",
       "59939             NaN        No\n",
       "59943         average        No\n",
       "\n",
       "[66141 rows x 2 columns]"
      ]
     },
     "execution_count": 132,
     "metadata": {},
     "output_type": "execute_result"
    }
   ],
   "source": [
    "tmp[['body_type', 'full_data']]"
   ]
  },
  {
   "cell_type": "code",
   "execution_count": null,
   "metadata": {
    "collapsed": true
   },
   "outputs": [],
   "source": []
  }
 ],
 "metadata": {
  "kernelspec": {
   "display_name": "Python 3",
   "language": "python",
   "name": "python3"
  },
  "language_info": {
   "codemirror_mode": {
    "name": "ipython",
    "version": 3
   },
   "file_extension": ".py",
   "mimetype": "text/x-python",
   "name": "python",
   "nbconvert_exporter": "python",
   "pygments_lexer": "ipython3",
   "version": "3.6.2"
  }
 },
 "nbformat": 4,
 "nbformat_minor": 2
}
